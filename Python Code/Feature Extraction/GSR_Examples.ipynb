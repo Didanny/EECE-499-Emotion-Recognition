{
 "cells": [
  {
   "cell_type": "code",
   "execution_count": 1,
   "metadata": {},
   "outputs": [],
   "source": [
    "import numpy as np\n",
    "import scipy.io\n",
    "from scipy.stats import kurtosis\n",
    "from scipy.stats import skew\n",
    "from scipy.signal import savgol_filter\n",
    "from scipy.signal import find_peaks\n",
    "from scipy.signal import butter, lfilter\n",
    "from scipy.signal import butter, sosfilt, sosfreqz\n",
    "from scipy.signal import welch\n",
    "from scipy import signal\n",
    "import os\n",
    "import pandas as pd"
   ]
  },
  {
   "cell_type": "code",
   "execution_count": 2,
   "metadata": {},
   "outputs": [],
   "source": [
    "import matplotlib.pyplot as plt"
   ]
  },
  {
   "cell_type": "code",
   "execution_count": 3,
   "metadata": {},
   "outputs": [],
   "source": [
    "save_path = 'D:\\EECE499\\Features\\GSRFeatures_FixedWindow.xlsx'\n",
    "#save_path = '..\\..\\..\\GSRFeatures_FixedWindow.xlsx'"
   ]
  },
  {
   "cell_type": "code",
   "execution_count": 4,
   "metadata": {},
   "outputs": [],
   "source": [
    "sample_rate = 128"
   ]
  },
  {
   "cell_type": "code",
   "execution_count": 5,
   "metadata": {},
   "outputs": [],
   "source": [
    "def butter_bandpass(lowcut, highcut, fs, order):\n",
    "    nyq = 0.5 * fs\n",
    "    low = lowcut / nyq\n",
    "    high = highcut / nyq\n",
    "    sos = butter(order, [low, high], analog=False, btype='band', output='sos')\n",
    "    return sos\n",
    "\n",
    "def butter_bandpass_filter(data, lowcut, highcut, fs, order=6):\n",
    "    sos = butter_bandpass(lowcut, highcut, fs, order=order)\n",
    "    y = sosfilt(sos, data)\n",
    "    return y\n",
    "\n",
    "def butter_lowpass(cutoff, fs, order):\n",
    "    nyq = 0.5 * fs\n",
    "    normal_cutoff = cutoff / nyq\n",
    "    b, a = butter(order, normal_cutoff, btype='low', analog=False)\n",
    "    return b, a\n",
    "\n",
    "def butter_lowpass_filter(data, cutoff, fs, order=6):\n",
    "    b, a = butter_lowpass(cutoff, fs, order=order)\n",
    "    y = lfilter(b, a, data)\n",
    "    return y"
   ]
  },
  {
   "cell_type": "code",
   "execution_count": 6,
   "metadata": {},
   "outputs": [],
   "source": [
    "max_length = 17215"
   ]
  },
  {
   "cell_type": "code",
   "execution_count": 7,
   "metadata": {},
   "outputs": [],
   "source": [
    "yup = np.array(list(range(1, 17216)))"
   ]
  },
  {
   "cell_type": "code",
   "execution_count": 8,
   "metadata": {},
   "outputs": [
    {
     "data": {
      "text/plain": [
       "array([    1,     2,     3, ..., 17213, 17214, 17215])"
      ]
     },
     "execution_count": 8,
     "metadata": {},
     "output_type": "execute_result"
    }
   ],
   "source": [
    "yup"
   ]
  },
  {
   "cell_type": "code",
   "execution_count": 9,
   "metadata": {},
   "outputs": [
    {
     "data": {
      "text/plain": [
       "6.998373983739837"
      ]
     },
     "execution_count": 9,
     "metadata": {},
     "output_type": "execute_result"
    }
   ],
   "source": [
    "17216/2460"
   ]
  },
  {
   "cell_type": "code",
   "execution_count": 10,
   "metadata": {},
   "outputs": [],
   "source": [
    "window = 2460\n",
    "x = [2460, 4920, 7380, 9840, 12300, 14760]\n",
    "y = [1230, '-', 3690, '-', 7380, '-', 9840, '-', 12300]"
   ]
  },
  {
   "cell_type": "code",
   "execution_count": 11,
   "metadata": {},
   "outputs": [],
   "source": [
    "window_intervals_even = np.array([1, 2, 3, 4, 5, 6])*window #7\n",
    "window_intervals_odd = np.array([0.5, 1.5, 2.5, 3.5, 4.5, 5.5, 6.5])*window #6"
   ]
  },
  {
   "cell_type": "code",
   "execution_count": 12,
   "metadata": {},
   "outputs": [
    {
     "data": {
      "text/plain": [
       "array([ 2460,  4920,  7380,  9840, 12300, 14760])"
      ]
     },
     "execution_count": 12,
     "metadata": {},
     "output_type": "execute_result"
    }
   ],
   "source": [
    "window_intervals_even"
   ]
  },
  {
   "cell_type": "code",
   "execution_count": 13,
   "metadata": {},
   "outputs": [
    {
     "data": {
      "text/plain": [
       "array([ 1230,  3690,  6150,  8610, 11070, 13530, 15990])"
      ]
     },
     "execution_count": 13,
     "metadata": {},
     "output_type": "execute_result"
    }
   ],
   "source": [
    "window_intervals_odd = window_intervals_odd.astype(int)\n",
    "window_intervals_odd"
   ]
  },
  {
   "cell_type": "code",
   "execution_count": 14,
   "metadata": {},
   "outputs": [
    {
     "name": "stdout",
     "output_type": "stream",
     "text": [
      "True\n",
      "True\n",
      "True\n",
      "True\n",
      "True\n",
      "True\n",
      "True\n",
      "True\n",
      "True\n",
      "True\n",
      "True\n"
     ]
    }
   ],
   "source": [
    "for i in range(1, 6):\n",
    "    print(yup[window_intervals_even[i - 1]:window_intervals_even[i]].shape[0] == 2460)\n",
    "    \n",
    "for i in range(1, 7):\n",
    "    print(yup[window_intervals_odd[i - 1]:window_intervals_odd[i]].shape[0] == 2460)"
   ]
  },
  {
   "cell_type": "code",
   "execution_count": 54,
   "metadata": {
    "scrolled": false
   },
   "outputs": [
    {
     "name": "stdout",
     "output_type": "stream",
     "text": [
      "User ID: 3\n",
      "Clip ID: 1\n",
      "SHORT\n"
     ]
    },
    {
     "data": {
      "image/png": "[encoded data removed]",
      "text/plain": [
       "<Figure size 432x288 with 1 Axes>"
      ]
     },
     "metadata": {},
     "output_type": "display_data"
    }
   ],
   "source": [
    "data_frames = []\n",
    "\n",
    "for user_id in range(3, 4): #(1, 59)\n",
    "    print('User ID: ' + str(user_id))\n",
    "    \n",
    "    mean_skin_resistance = [[] for i in range(13)]\n",
    "    mean_first_derivative_res = [[] for i in range(13)]\n",
    "    mean_abs_first_derivative_res = [[] for i in range(13)]\n",
    "    mean_neg_first_derivative_res = [[] for i in range(13)]\n",
    "    percentage_neg_first_derivative_res = [[] for i in range(13)]\n",
    "    std_skin_resistance = [[] for i in range(13)]\n",
    "    avg_minima_con = [[] for i in range(13)]\n",
    "    #avg_rising_time_res =[]\n",
    "    #log_power_density = []\n",
    "    std_skin_conductance = [[] for i in range(13)]\n",
    "    mean_first_derivative_con = [[] for i in range(13)]\n",
    "    mean_abs_first_derivative_con = [[] for i in range(13)]\n",
    "    mean_abs_second_derivative_con = [[] for i in range(13)]\n",
    "    avg_minima_res = [[] for i in range(13)]\n",
    "    #log_power_density\n",
    "    psd_subband_01 = []\n",
    "    psd_subband_02 = []\n",
    "    psd_subband_03 = []\n",
    "    psd_subband_04 = []\n",
    "    zero_crossing_con_slow = [[] for i in range(13)]\n",
    "    zero_crossing_con_very_slow = [[] for i in range(13)]\n",
    "    psd_subband_11 = []\n",
    "    psd_subband_12 = []\n",
    "    psd_subband_13 = []\n",
    "    psd_subband_14 = []\n",
    "    psd_subband_15 = []\n",
    "    psd_subband_16 = []\n",
    "    psd_subband_17 = []\n",
    "    psd_subband_18 = []\n",
    "    psd_subband_19 = []\n",
    "    psd_subband_10 = []\n",
    "    \n",
    "    presentation_id = []\n",
    "    \n",
    "    for clip_id in range(1, 2): #(1, 37)\n",
    "        print('Clip ID: ' + str(clip_id))\n",
    "        \n",
    "        #data_path = 'D:/EECE499/Raw/MyECGFunc/ASCERTAIN_Raw/GSRData/Movie_P' + str(user_id).zfill(2) + '/GSR_Clip' + str(clip_id) + '.mat'    \n",
    "        data_path = './../../ASCERTAIN_Raw/GSRData/Movie_P' + str(user_id).zfill(2) + '/GSR_Clip' + str(clip_id) + '.mat'\n",
    "        \n",
    "        presentation_id.append(str(user_id).zfill(2) + str(clip_id).zfill(2))\n",
    "        \n",
    "        if os.path.isfile(data_path):\n",
    "            \n",
    "            signal = scipy.io.loadmat(data_path)\n",
    "            resistance = signal['Data_GSR'][:,4]\n",
    "            time_stamp = signal['Data_GSR'][:,0]\n",
    "            \n",
    "            resistance = np.array(resistance)\n",
    "            resistance = savgol_filter(resistance, 501, 3)\n",
    "            conductance = 1 / resistance\n",
    "            \n",
    "            if (max_length > resistance.shape[0]):\n",
    "                print(\"SHORT\")\n",
    "                resistance = np.pad(resistance, (0, max_length - resistance.shape[0]), 'mean')\n",
    "                conductance = np.pad(conductance, (0, max_length - conductance.shape[0]), 'mean')\n",
    "            else:\n",
    "                resistance = resistance[:17215]\n",
    "                conductance = conductance[:17215]\n",
    "            #print(resistance.shape)\n",
    "            \n",
    "            #plt.plot(resistance)\n",
    "            #plt.show()\n",
    "            \n",
    "            #print(mean_skin_resistance)\n",
    "            \n",
    "            ###############################################\n",
    "            plt.plot(resistance, color='green')\n",
    "            plt.axvspan(0,window_intervals_even[0], color='red', alpha=0.5)\n",
    "            plt.axvspan(window_intervals_odd[0] ,window_intervals_odd[1], alpha=0.5)\n",
    "            plt.legend(['signal', 'window 1', 'window 2'])\n",
    "            \n",
    "            plt.savefig('gsr_window_example.png', format='png', dpi=1000)\n",
    "            \n",
    "            plt.show()            \n",
    "            \n",
    "            ###############################################\n",
    "            "
   ]
  },
  {
   "cell_type": "code",
   "execution_count": null,
   "metadata": {},
   "outputs": [],
   "source": []
  }
 ],
 "metadata": {
  "kernelspec": {
   "display_name": "Python 3",
   "language": "python",
   "name": "python3"
  },
  "language_info": {
   "codemirror_mode": {
    "name": "ipython",
    "version": 3
   },
   "file_extension": ".py",
   "mimetype": "text/x-python",
   "name": "python",
   "nbconvert_exporter": "python",
   "pygments_lexer": "ipython3",
   "version": "3.6.5"
  }
 },
 "nbformat": 4,
 "nbformat_minor": 2
}
