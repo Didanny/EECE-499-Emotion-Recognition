{
 "cells": [
  {
   "cell_type": "markdown",
   "metadata": {},
   "source": [
    "# Preliminary Results\n",
    "---"
   ]
  },
  {
   "cell_type": "markdown",
   "metadata": {},
   "source": [
    "## Logistic Regression"
   ]
  },
  {
   "cell_type": "markdown",
   "metadata": {},
   "source": [
    "### All Features\n",
    "||Accuracy|MAE|RMSE|\n",
    "|---|---|---|---|\n",
    "|**Arousal**|30%|1.12|2.30|\n",
    "|**Engaging**|20%|1.77|5.08|\n",
    "|**Familiarity**|44%|0.76|1.27|\n",
    "|**Liking**|23%|1.57|4.09|\n",
    "|**Valence**|46%|1.17|3.3|\n",
    "\n",
    "### After Recursive Feature Extraction\n",
    "||Accuracy|MAE|RMSE|\n",
    "|---|---|---|---|\n",
    "|**Arousal**|26%|1.25|2.76|\n",
    "|**Engaging**|28%|1.59|4.33|\n",
    "|**Familiarity**|41%|0.76|1.16|\n",
    "|**Liking**|23%|1.65|4.55|\n",
    "|**Valence**|40%|1.32|3.72|"
   ]
  },
  {
   "cell_type": "markdown",
   "metadata": {},
   "source": [
    "## Ordinal Logistic Regression"
   ]
  },
  {
   "cell_type": "markdown",
   "metadata": {},
   "source": [
    "### All Features\n",
    "||Accuracy|MAE|RMSE|\n",
    "|---|---|---|---|\n",
    "|**Arousal**|34%|0.93|1.64|\n",
    "|**Engaging**|14%|1.60|3.71|\n",
    "|**Familiarity**|49%|0.65|1.07|\n",
    "|**Liking**|14%|1.42|2.93|\n",
    "|**Valence**|23%|1.14|2.05|\n",
    "\n",
    "### After Recursive Feature Extraction\n",
    "||Accuracy|MAE|RMSE|\n",
    "|---|---|---|---|\n",
    "|**Arousal**|11%|1.91|5.13|\n",
    "|**Engaging**|15%|2.23|7.59|\n",
    "|**Familiarity**|34%|0.87|1.39|\n",
    "|**Liking**|13%|2.38|8.40|\n",
    "|**Valence**|45%|1.23|3.54|"
   ]
  },
  {
   "cell_type": "markdown",
   "metadata": {},
   "source": [
    "## Ordinal Logistic Regression Immediate-Threshold"
   ]
  },
  {
   "cell_type": "markdown",
   "metadata": {},
   "source": [
    "### All Features\n",
    "||Accuracy|MAE|RMSE|\n",
    "|---|---|---|---|\n",
    "|**Arousal**|38%|0.91|1.68|\n",
    "|**Engaging**|19%|1.79|5.09|\n",
    "|**Familiarity**|47%|0.69|1.15|\n",
    "|**Liking**|23%|1.75|5.05|\n",
    "|**Valence**|46%|1.23|3.60|\n",
    "\n",
    "### After Recursive Feature Extraction\n",
    "||Accuracy|MAE|RMSE|\n",
    "|---|---|---|---|\n",
    "|**Arousal**|17%|1.98|5.81|\n",
    "|**Engaging**|22%|1.80|5.13|\n",
    "|**Familiarity**|41%|0.71|1.09|\n",
    "|**Liking**|22%|1.80|5.43|\n",
    "|**Valence**|45%|1.36|4.13|"
   ]
  },
  {
   "cell_type": "markdown",
   "metadata": {},
   "source": [
    "## Ordinal Logistic Regression All-Threshold"
   ]
  },
  {
   "cell_type": "markdown",
   "metadata": {},
   "source": [
    "### All Features\n",
    "||Accuracy|MAE|RMSE|\n",
    "|---|---|---|---|\n",
    "|**Arousal**|34%|0.95|1.71|\n",
    "|**Engaging**|16%|1.62|3.90|\n",
    "|**Familiarity**|49%|0.66|1.12|\n",
    "|**Liking**|16%|1.43|3.15|\n",
    "|**Valence**|35%|1.15|2.61|\n",
    "\n",
    "### After Recursive Feature Extraction\n",
    "||Accuracy|MAE|RMSE|\n",
    "|---|---|---|---|\n",
    "|**Arousal**|16%|1.80|5.14|\n",
    "|**Engaging**|18%|2.04|6.62|\n",
    "|**Familiarity**|31%|0.97|1.75|\n",
    "|**Liking**|14%|1.77|4.73|\n",
    "|**Valence**|44%|1.33|4.02|"
   ]
  },
  {
   "cell_type": "markdown",
   "metadata": {},
   "source": [
    "## Ordinal Ridge Regression"
   ]
  },
  {
   "cell_type": "markdown",
   "metadata": {},
   "source": [
    "### All Features\n",
    "||Accuracy|MAE|RMSE|\n",
    "|---|---|---|---|\n",
    "|**Arousal**|35%|0.92|1.60|\n",
    "|**Engaging**|18%|1.47|3.13|\n",
    "|**Familiarity**|50%|0.65|1.13|\n",
    "|**Liking**|15%|1.38|2.79|\n",
    "|**Valence**|23%|1.16|2.11|\n",
    "\n",
    "### After Recursive Feature Extraction\n",
    "||Accuracy|MAE|RMSE|\n",
    "|---|---|---|---|\n",
    "|**Arousal**|15%|1.52|3.40|\n",
    "|**Engaging**|17%|1.75|4.83|\n",
    "|**Familiarity**|33%|0.87|1.39|\n",
    "|**Liking**|12%|1.79|4.76|\n",
    "|**Valence**|44%|1.23|3.51|"
   ]
  },
  {
   "cell_type": "markdown",
   "metadata": {},
   "source": [
    "## Ordinal LAD"
   ]
  },
  {
   "cell_type": "markdown",
   "metadata": {},
   "source": [
    "### All Features\n",
    "||Accuracy|MAE|RMSE|\n",
    "|---|---|---|---|\n",
    "|**Arousal**|30%|1.02|1.89|\n",
    "|**Engaging**|15%|1.54|3.40|\n",
    "|**Familiarity**|48%|0.69|1.20|\n",
    "|**Liking**|16%|1.46|3.24|\n",
    "|**Valence**|27%|1.18|2.47|\n",
    "\n",
    "### After Recursive Feature Extraction\n",
    "||Accuracy|MAE|RMSE|\n",
    "|---|---|---|---|\n",
    "|**Arousal**|34%|0.96|1.73|\n",
    "|**Engaging**|17%|1.47|3.15|\n",
    "|**Familiarity**|37%|0.81|1.26|\n",
    "|**Liking**|17%|1.91|5.51|\n",
    "|**Valence**|46%|1.30|3.90|"
   ]
  },
  {
   "cell_type": "markdown",
   "metadata": {},
   "source": [
    "## Rounded Linear Regression"
   ]
  },
  {
   "cell_type": "markdown",
   "metadata": {},
   "source": [
    "### All Features\n",
    "||Accuracy|MAE|RMSE|\n",
    "|---|---|---|---|\n",
    "|**Arousal**|37%|0.94|1.74|\n",
    "|**Engaging**|16%|1.61|3.86|\n",
    "|**Familiarity**|46%|0.70|1.21|\n",
    "|**Liking**|18%|1.43|3.10|\n",
    "|**Valence**|23%|1.16|2.11|\n",
    "\n",
    "### After Recursive Feature Extraction\n",
    "||Accuracy|MAE|RMSE|\n",
    "|---|---|---|---|\n",
    "|**Arousal**|13%|1.85|4.99|\n",
    "|**Engaging**|6%|3.32|14.1|\n",
    "|**Familiarity**|11%|2.36|7.85|\n",
    "|**Liking**|11%|2.69|10.4|\n",
    "|**Valence**|20%|2.36|8.15|"
   ]
  },
  {
   "cell_type": "markdown",
   "metadata": {},
   "source": [
    "## Multi-Layer Perceptron Classification"
   ]
  },
  {
   "cell_type": "markdown",
   "metadata": {},
   "source": [
    "||Accuracy|MAE|RMSE|\n",
    "|---|---|---|---|\n",
    "|**Arousal**|35%|0.97|1.83|\n",
    "|**Engaging**|20%|1.64|4.19|\n",
    "|**Familiarity**|40%|0.72|1.08|\n",
    "|**Liking**|20%|1.58|3.99|\n",
    "|**Valence**|46%|1.30|3.90|"
   ]
  },
  {
   "cell_type": "code",
   "execution_count": null,
   "metadata": {},
   "outputs": [],
   "source": [
    "### All Features\n",
    "||Accuracy|MAE|RMSE|\n",
    "|---|---|---|---|\n",
    "|**Arousal**||||\n",
    "|**Engaging**||||\n",
    "|**Familiarity**||||\n",
    "|**Liking**||||\n",
    "|**Valence**||||\n",
    "\n",
    "### After Recursive Feature Extraction\n",
    "||Accuracy|MAE|RMSE|\n",
    "|---|---|---|---|\n",
    "|**Arousal**||||\n",
    "|**Engaging**||||\n",
    "|**Familiarity**||||\n",
    "|**Liking**||||\n",
    "|**Valence**||||"
   ]
  }
 ],
 "metadata": {
  "kernelspec": {
   "display_name": "Python 3",
   "language": "python",
   "name": "python3"
  },
  "language_info": {
   "codemirror_mode": {
    "name": "ipython",
    "version": 3
   },
   "file_extension": ".py",
   "mimetype": "text/x-python",
   "name": "python",
   "nbconvert_exporter": "python",
   "pygments_lexer": "ipython3",
   "version": "3.6.5"
  }
 },
 "nbformat": 4,
 "nbformat_minor": 2
}
