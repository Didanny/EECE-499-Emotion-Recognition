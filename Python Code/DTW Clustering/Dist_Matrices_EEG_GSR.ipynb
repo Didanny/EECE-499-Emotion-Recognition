{
 "cells": [
  {
   "cell_type": "code",
   "execution_count": 1,
   "metadata": {},
   "outputs": [],
   "source": [
    "import numpy as np\n",
    "import pandas as pd\n",
    "import scipy.io\n",
    "import os\n",
    "from scipy.signal import savgol_filter\n",
    "from dtaidistance import dtw\n",
    "import seaborn as sns\n",
    "from sklearn import preprocessing\n",
    "from numpy import inf\n",
    "from scipy.cluster.hierarchy import dendrogram, linkage, cut_tree\n",
    "from matplotlib import pyplot as plt\n",
    "import scipy.spatial.distance as ssd\n",
    "from tqdm import tqdm"
   ]
  },
  {
   "cell_type": "code",
   "execution_count": 2,
   "metadata": {},
   "outputs": [],
   "source": [
    "load_path = 'D:\\EECE499\\Features\\\\'\n",
    "#load_path = '..\\..\\..\\\\'"
   ]
  },
  {
   "cell_type": "code",
   "execution_count": 3,
   "metadata": {},
   "outputs": [],
   "source": [
    "Features = pd.read_excel(load_path + 'Features.xlsx')"
   ]
  },
  {
   "cell_type": "code",
   "execution_count": 4,
   "metadata": {},
   "outputs": [],
   "source": [
    "Ratings = pd.read_excel(load_path + 'Ratings.xlsx')"
   ]
  },
  {
   "cell_type": "code",
   "execution_count": 5,
   "metadata": {},
   "outputs": [
    {
     "data": {
      "text/plain": [
       "(603,)"
      ]
     },
     "execution_count": 5,
     "metadata": {},
     "output_type": "execute_result"
    }
   ],
   "source": [
    "presentations_ids = Features['presentation_id'].values\n",
    "presentations_ids.shape"
   ]
  },
  {
   "cell_type": "code",
   "execution_count": 6,
   "metadata": {},
   "outputs": [
    {
     "name": "stdout",
     "output_type": "stream",
     "text": [
      "4706\r"
     ]
    }
   ],
   "source": [
    "indices_dict = []\n",
    "series_gsr = []\n",
    "series_neuro_sky = []\n",
    "series_attention = []\n",
    "series_meditation = []\n",
    "series_alpha = []\n",
    "series_beta = []\n",
    "series_delta = []\n",
    "series_gamma = []\n",
    "series_theta = []\n",
    "\n",
    "for i, presentation_id in enumerate(presentations_ids):\n",
    "    print(presentation_id, end='\\r')\n",
    "    \n",
    "    indices_dict.append(presentation_id)\n",
    "    \n",
    "    clip_id = presentation_id % 100\n",
    "    user_id = int(presentation_id / 100)\n",
    "    \n",
    "    #data_path = './../../ASCERTAIN_Raw/GSRData/Movie_P' + str(user_id).zfill(2) + '/GSR_Clip' + str(clip_id) + '.mat'\n",
    "    data_path = 'D:/EECE499/Raw/MyECGFunc/ASCERTAIN_Raw/GSRData/Movie_P' + str(user_id).zfill(2) + '/GSR_Clip' + str(clip_id) + '.mat'\n",
    "    \n",
    "    if os.path.isfile(data_path):\n",
    "        \n",
    "        signal = scipy.io.loadmat(data_path)\n",
    "        resistance = signal['Data_GSR'][:,4]\n",
    "        \n",
    "        resistance = savgol_filter(resistance, 501, 3)\n",
    "        series_gsr.append(resistance)\n",
    "    \n",
    "    data_path = 'D:/EECE499/Raw/MyECGFunc/ASCERTAIN_Raw/EEGData/Movie_P' + str(user_id).zfill(2) + '/EEG_Clip' + str(clip_id) + '.mat'\n",
    "    \n",
    "    if os.path.isfile(data_path):\n",
    "        \n",
    "        signal = scipy.io.loadmat(data_path)\n",
    "        \n",
    "        neuro_sky_EEG_raw = np.array(signal['ThisEEG'][0])\n",
    "        attention_raw = np.array(signal['ThisEEG'][1])\n",
    "        meditation_raw = np.array(signal['ThisEEG'][2])\n",
    "        alpha_raw = np.array(signal['ThisEEG'][3])\n",
    "        beta_raw = np.array(signal['ThisEEG'][4])\n",
    "        delta_raw = np.array(signal['ThisEEG'][5])\n",
    "        gamma_raw = np.array(signal['ThisEEG'][6])\n",
    "        theta_raw = np.array(signal['ThisEEG'][7])\n",
    "        \n",
    "        series_neuro_sky.append(neuro_sky_EEG_raw)\n",
    "        series_attention.append(attention_raw)\n",
    "        series_meditation.append(meditation_raw)\n",
    "        series_alpha.append(alpha_raw)\n",
    "        series_beta.append(beta_raw)\n",
    "        series_delta.append(delta_raw)\n",
    "        series_gamma.append(gamma_raw)\n",
    "        series_theta.append(theta_raw)"
   ]
  },
  {
   "cell_type": "code",
   "execution_count": null,
   "metadata": {},
   "outputs": [
    {
     "ename": "KeyboardInterrupt",
     "evalue": "",
     "output_type": "error",
     "traceback": [
      "\u001b[1;31m---------------------------------------------------------------------------\u001b[0m",
      "\u001b[1;31mKeyboardInterrupt\u001b[0m                         Traceback (most recent call last)",
      "\u001b[1;31mKeyboardInterrupt\u001b[0m: "
     ]
    },
    {
     "name": "stderr",
     "output_type": "stream",
     "text": [
      "Exception ignored in: 'dtaidistance.dtw_c.distance_nogil_c'\n",
      "KeyboardInterrupt\n"
     ]
    },
    {
     "ename": "KeyboardInterrupt",
     "evalue": "",
     "output_type": "error",
     "traceback": [
      "\u001b[1;31m---------------------------------------------------------------------------\u001b[0m",
      "\u001b[1;31mKeyboardInterrupt\u001b[0m                         Traceback (most recent call last)",
      "\u001b[1;31mKeyboardInterrupt\u001b[0m: "
     ]
    },
    {
     "name": "stderr",
     "output_type": "stream",
     "text": [
      "Exception ignored in: 'dtaidistance.dtw_c.distance_nogil_c'\n",
      "KeyboardInterrupt\n"
     ]
    },
    {
     "ename": "KeyboardInterrupt",
     "evalue": "",
     "output_type": "error",
     "traceback": [
      "\u001b[1;31m---------------------------------------------------------------------------\u001b[0m",
      "\u001b[1;31mKeyboardInterrupt\u001b[0m                         Traceback (most recent call last)",
      "\u001b[1;31mKeyboardInterrupt\u001b[0m: "
     ]
    },
    {
     "name": "stderr",
     "output_type": "stream",
     "text": [
      "Exception ignored in: 'dtaidistance.dtw_c.distance_nogil_c'\n",
      "KeyboardInterrupt\n"
     ]
    },
    {
     "ename": "KeyboardInterrupt",
     "evalue": "",
     "output_type": "error",
     "traceback": [
      "\u001b[1;31m---------------------------------------------------------------------------\u001b[0m",
      "\u001b[1;31mKeyboardInterrupt\u001b[0m                         Traceback (most recent call last)",
      "\u001b[1;31mKeyboardInterrupt\u001b[0m: "
     ]
    },
    {
     "name": "stderr",
     "output_type": "stream",
     "text": [
      "Exception ignored in: 'dtaidistance.dtw_c.distance_nogil_c'\n",
      "KeyboardInterrupt\n"
     ]
    }
   ],
   "source": [
    "dm_attention = dtw.distance_matrix_fast(series_attention)\n",
    "np.save('dm_attention', dm_attention)"
   ]
  },
  {
   "cell_type": "code",
   "execution_count": null,
   "metadata": {},
   "outputs": [],
   "source": [
    "dm_meditation = dtw.distance_matrix_fast(series_meditation)\n",
    "np.save('dm_attention', dm_meditation)"
   ]
  },
  {
   "cell_type": "code",
   "execution_count": null,
   "metadata": {},
   "outputs": [],
   "source": [
    "dm_alpha = dtw.distance_matrix_fast(series_alpha)\n",
    "np.save('dm_attention', dm_alpha)"
   ]
  },
  {
   "cell_type": "code",
   "execution_count": null,
   "metadata": {},
   "outputs": [],
   "source": [
    "dm_neuro_sky = dtw.distance_matrix_fast(series_neuro_sky)\n",
    "np.save('dm_attention', dm_neuro_sky)"
   ]
  },
  {
   "cell_type": "code",
   "execution_count": null,
   "metadata": {},
   "outputs": [],
   "source": [
    "dm_beta = dtw.distance_matrix_fast(series_beta)\n",
    "np.save('dm_attention', dm_beta)"
   ]
  },
  {
   "cell_type": "code",
   "execution_count": null,
   "metadata": {},
   "outputs": [],
   "source": [
    "dm_delta = dtw.distance_matrix_fast(series_delta)\n",
    "np.save('dm_delta', dm_delta)"
   ]
  },
  {
   "cell_type": "code",
   "execution_count": null,
   "metadata": {},
   "outputs": [],
   "source": [
    "dm_gamma = dtw.distance_matrix_fast(series_gamma)\n",
    "np.save('dm_gamma', dm_gamma)"
   ]
  },
  {
   "cell_type": "code",
   "execution_count": null,
   "metadata": {},
   "outputs": [],
   "source": [
    "dm_theta = dtw.distance_matrix_fast(series_theta)\n",
    "np.save('dm_theta', dm_theta)"
   ]
  },
  {
   "cell_type": "code",
   "execution_count": null,
   "metadata": {},
   "outputs": [],
   "source": [
    "dm_gsr = dtw.distance_matrix_fast(series_alpha)\n",
    "np.save('dm_gsr', dm_gsr)"
   ]
  }
 ],
 "metadata": {
  "kernelspec": {
   "display_name": "Python 3",
   "language": "python",
   "name": "python3"
  },
  "language_info": {
   "codemirror_mode": {
    "name": "ipython",
    "version": 3
   },
   "file_extension": ".py",
   "mimetype": "text/x-python",
   "name": "python",
   "nbconvert_exporter": "python",
   "pygments_lexer": "ipython3",
   "version": "3.6.5"
  }
 },
 "nbformat": 4,
 "nbformat_minor": 2
}
