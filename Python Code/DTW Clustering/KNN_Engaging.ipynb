{
 "cells": [
  {
   "cell_type": "code",
   "execution_count": 1,
   "metadata": {},
   "outputs": [],
   "source": [
    "import numpy as np\n",
    "import pandas as pd\n",
    "import scipy.io\n",
    "import os\n",
    "from scipy.signal import savgol_filter\n",
    "from dtaidistance import dtw\n",
    "import seaborn as sns\n",
    "from sklearn import preprocessing\n",
    "from numpy import inf\n",
    "from scipy.cluster.hierarchy import dendrogram, linkage, cut_tree\n",
    "from matplotlib import pyplot as plt\n",
    "import scipy.spatial.distance as ssd\n",
    "from sklearn.neighbors import KNeighborsClassifier\n",
    "from sklearn.model_selection import cross_validate\n",
    "from sklearn.metrics import mean_absolute_error, mean_squared_error, accuracy_score"
   ]
  },
  {
   "cell_type": "code",
   "execution_count": 2,
   "metadata": {},
   "outputs": [],
   "source": [
    "#load_path = 'D:\\EECE499\\Features\\\\'\n",
    "load_path = '..\\..\\..\\\\'"
   ]
  },
  {
   "cell_type": "code",
   "execution_count": 3,
   "metadata": {},
   "outputs": [],
   "source": [
    "Features = pd.read_excel(load_path + 'Features.xlsx')"
   ]
  },
  {
   "cell_type": "code",
   "execution_count": 4,
   "metadata": {},
   "outputs": [],
   "source": [
    "Ratings = pd.read_excel(load_path + 'Ratings.xlsx')"
   ]
  },
  {
   "cell_type": "code",
   "execution_count": 5,
   "metadata": {},
   "outputs": [
    {
     "data": {
      "text/plain": [
       "(603,)"
      ]
     },
     "execution_count": 5,
     "metadata": {},
     "output_type": "execute_result"
    }
   ],
   "source": [
    "presentations_ids = Features['presentation_id'].values\n",
    "presentations_ids.shape"
   ]
  },
  {
   "cell_type": "code",
   "execution_count": 6,
   "metadata": {},
   "outputs": [
    {
     "name": "stdout",
     "output_type": "stream",
     "text": [
      "2315"
     ]
    }
   ],
   "source": [
    "indices_dict = []\n",
    "series_gsr = []\n",
    "series_neuro_sky = []\n",
    "series_attention = []\n",
    "series_meditation = []\n",
    "series_alpha = []\n",
    "series_beta = []\n",
    "series_delta = []\n",
    "series_gamma = []\n",
    "series_theta = []\n",
    "\n",
    "for i, presentation_id in enumerate(presentations_ids):\n",
    "    print(presentation_id, end='\\r')\n",
    "    \n",
    "    indices_dict.append(presentation_id)\n",
    "    \n",
    "    clip_id = presentation_id % 100\n",
    "    user_id = int(presentation_id / 100)\n",
    "    \n",
    "    #data_path = './../../ASCERTAIN_Raw/GSRData/Movie_P' + str(user_id).zfill(2) + '/GSR_Clip' + str(clip_id) + '.mat'\n",
    "    data_path = 'D:/EECE499/Raw/MyECGFunc/ASCERTAIN_Raw/GSRData/Movie_P' + str(user_id).zfill(2) + '/GSR_Clip' + str(clip_id) + '.mat'\n",
    "    \n",
    "    if os.path.isfile(data_path):\n",
    "        \n",
    "        signal = scipy.io.loadmat(data_path)\n",
    "        resistance = signal['Data_GSR'][:,4]\n",
    "        \n",
    "        resistance = savgol_filter(resistance, 501, 3)\n",
    "        series_gsr.append(resistance)\n",
    "    \n",
    "    data_path = 'D:/EECE499/Raw/MyECGFunc/ASCERTAIN_Raw/EEGData/Movie_P' + str(user_id).zfill(2) + '/EEG_Clip' + str(clip_id) + '.mat'\n",
    "    \n",
    "    if os.path.isfile(data_path):\n",
    "        \n",
    "        signal = scipy.io.loadmat(data_path)\n",
    "        \n",
    "        neuro_sky_EEG_raw = np.array(signal['ThisEEG'][0])\n",
    "        attention_raw = np.array(signal['ThisEEG'][1])\n",
    "        meditation_raw = np.array(signal['ThisEEG'][2])\n",
    "        alpha_raw = np.array(signal['ThisEEG'][3])\n",
    "        beta_raw = np.array(signal['ThisEEG'][4])\n",
    "        delta_raw = np.array(signal['ThisEEG'][5])\n",
    "        gamma_raw = np.array(signal['ThisEEG'][6])\n",
    "        theta_raw = np.array(signal['ThisEEG'][7])\n",
    "        \n",
    "        window = 51 #101\n",
    "        order = 4 #3\n",
    "        try:\n",
    "            neuro_sky_EEG_raw = savgol_filter(neuro_sky_EEG_raw, window, order)\n",
    "            attention_raw = savgol_filter(attention_raw, window, order)\n",
    "            meditation_raw = savgol_filter(meditation_raw, window, order)\n",
    "            alpha_raw = savgol_filter(alpha_raw, window, order)\n",
    "            beta_raw = savgol_filter(beta_raw, window, order)\n",
    "            delta_raw = savgol_filter(delta_raw, window, order)\n",
    "            gamma_raw = savgol_filter(gamma_raw, window, order)\n",
    "            theta_raw = savgol_filter(theta_raw, window, order)\n",
    "        except:\n",
    "            l = len(neuro_sky_EEG_raw)\n",
    "            neuro_sky_EEG_raw = np.zeros(l)\n",
    "            attention_raw = np.zeros(l)\n",
    "            meditation_raw = np.zeros(l)\n",
    "            alpha_raw = np.zeros(l)\n",
    "            beta_raw = np.zeros(l)\n",
    "            delta_raw = np.zeros(l)\n",
    "            gamma_raw = np.zeros(l)\n",
    "            theta_raw = np.zeros(l)\n",
    "        \n",
    "        series_neuro_sky.append(neuro_sky_EEG_raw)\n",
    "        series_attention.append(attention_raw)\n",
    "        series_meditation.append(meditation_raw)\n",
    "        series_alpha.append(alpha_raw)\n",
    "        series_beta.append(beta_raw)\n",
    "        series_delta.append(delta_raw)\n",
    "        series_gamma.append(gamma_raw)\n",
    "        series_theta.append(theta_raw)"
   ]
  },
  {
   "cell_type": "code",
   "execution_count": 7,
   "metadata": {},
   "outputs": [],
   "source": [
    "dm_gsr = np.load('dist_matrix.npy')\n",
    "dm_attention = np.load('dm_attention.npy')\n",
    "dm_neuro_sky = np.load('dm_neuro_sky.npy')\n",
    "dm_meditation = np.load('dm_meditation.npy')\n",
    "dm_alpha = np.load('dm_alpha.npy')\n",
    "dm_beta = np.load('dm_beta.npy')\n",
    "dm_delta = np.load('dm_delta.npy')\n",
    "dm_gamma = np.load('dm_gamma.npy')\n",
    "dm_theta = np.load('dm_theta.npy')"
   ]
  },
  {
   "cell_type": "code",
   "execution_count": 8,
   "metadata": {},
   "outputs": [],
   "source": [
    "def reformat_matrix(dm):\n",
    "    i_lower = np.tril_indices(dm.shape[0], -1)\n",
    "    dm[i_lower] = dm.T[i_lower]\n",
    "    np.fill_diagonal(dm, 0)\n",
    "    return dm"
   ]
  },
  {
   "cell_type": "code",
   "execution_count": null,
   "metadata": {},
   "outputs": [],
   "source": [
    "dm_gsr = reformat_matrix(dm_gsr)\n",
    "dm_attention = reformat_matrix(dm_attention)\n",
    "dm_neuro_sky = reformat_matrix(dm_neuro_sky)\n",
    "dm_meditation = reformat_matrix(dm_meditation)\n",
    "dm_alpha = reformat_matrix(dm_alpha)\n",
    "dm_beta = reformat_matrix(dm_beta)\n",
    "dm_delta = reformat_matrix(dm_delta)\n",
    "dm_gamma = reformat_matrix(dm_gamma)\n",
    "dm_theta = reformat_matrix(dm_theta)"
   ]
  },
  {
   "cell_type": "code",
   "execution_count": null,
   "metadata": {},
   "outputs": [],
   "source": [
    "dist_matrix_gsr = dm_gsr\n",
    "dist_matrix_eeg = dm_attention + dm_neuro_sky + dm_meditation + dm_alpha + dm_beta + dm_delta + dm_gamma + dm_theta\n",
    "dist_matrix_gsr = dist_matrix_gsr + dist_matrix_eeg"
   ]
  },
  {
   "cell_type": "code",
   "execution_count": null,
   "metadata": {},
   "outputs": [],
   "source": [
    "dist_array_gsr = ssd.squareform(dist_matrix_gsr)\n",
    "dist_array_eeg = ssd.squareform(dist_matrix_eeg)"
   ]
  },
  {
   "cell_type": "code",
   "execution_count": null,
   "metadata": {},
   "outputs": [],
   "source": [
    "def get_index(x):\n",
    "    return indices_dict.index(x)\n",
    "\n",
    "def dist_gsr(x1, x2):\n",
    "    i1 = get_index(x1)\n",
    "    i2 = get_index(x2)\n",
    "    return dist_matrix_gsr[i1, i2]\n",
    "\n",
    "def dist_eeg(x1, x2):\n",
    "    i1 = get_index(x1)\n",
    "    i2 = get_index(x2)\n",
    "    return dist_matrix_eeg[i1, i2]"
   ]
  },
  {
   "cell_type": "code",
   "execution_count": null,
   "metadata": {},
   "outputs": [],
   "source": [
    "y = []\n",
    "for c in indices_dict:\n",
    "    y.append(Ratings.iloc[(Ratings.presentation_id == c).values]['engaging'].values[0])"
   ]
  },
  {
   "cell_type": "code",
   "execution_count": null,
   "metadata": {},
   "outputs": [],
   "source": [
    "X = np.array(indices_dict).reshape(603, 1)"
   ]
  },
  {
   "cell_type": "code",
   "execution_count": null,
   "metadata": {},
   "outputs": [],
   "source": [
    "classifier = KNeighborsClassifier(n_neighbors=5, metric=dist_gsr, algorithm='brute')\n",
    "classifier"
   ]
  },
  {
   "cell_type": "code",
   "execution_count": null,
   "metadata": {},
   "outputs": [],
   "source": [
    "limit = 300\n",
    "X_new = X[limit:limit+100]\n",
    "y_ = y[limit:limit+100] \n",
    "X = X[:limit]\n",
    "y = y[:limit]"
   ]
  },
  {
   "cell_type": "code",
   "execution_count": 17,
   "metadata": {},
   "outputs": [
    {
     "name": "stdout",
     "output_type": "stream",
     "text": [
      "[CV]  , accuracy=0.20588235294117646, neg_mean_absolute_error=-1.1470588235294117, neg_mean_squared_error=-1.9705882352941178, total=  28.1s\n"
     ]
    },
    {
     "name": "stderr",
     "output_type": "stream",
     "text": [
      "[Parallel(n_jobs=1)]: Done   1 out of   1 | elapsed:  3.2min remaining:    0.0s\n"
     ]
    },
    {
     "name": "stdout",
     "output_type": "stream",
     "text": [
      "[CV]  ................................................................\n",
      "[CV]  , accuracy=0.34375, neg_mean_absolute_error=-0.71875, neg_mean_squared_error=-0.84375, total=  25.9s\n"
     ]
    },
    {
     "name": "stderr",
     "output_type": "stream",
     "text": [
      "[Parallel(n_jobs=1)]: Done   2 out of   2 | elapsed:  6.4min remaining:    0.0s\n"
     ]
    },
    {
     "name": "stdout",
     "output_type": "stream",
     "text": [
      "[CV]  ................................................................\n",
      "[CV]  , accuracy=0.34375, neg_mean_absolute_error=-0.75, neg_mean_squared_error=-0.9375, total=  28.4s\n"
     ]
    },
    {
     "name": "stderr",
     "output_type": "stream",
     "text": [
      "[Parallel(n_jobs=1)]: Done   3 out of   3 | elapsed:  9.6min remaining:    0.0s\n"
     ]
    },
    {
     "name": "stdout",
     "output_type": "stream",
     "text": [
      "[CV]  ................................................................\n",
      "[CV]  , accuracy=0.3225806451612903, neg_mean_absolute_error=-0.8387096774193549, neg_mean_squared_error=-1.2258064516129032, total=  31.6s\n"
     ]
    },
    {
     "name": "stderr",
     "output_type": "stream",
     "text": [
      "[Parallel(n_jobs=1)]: Done   4 out of   4 | elapsed: 12.7min remaining:    0.0s\n"
     ]
    },
    {
     "name": "stdout",
     "output_type": "stream",
     "text": [
      "[CV]  ................................................................\n",
      "[CV]  , accuracy=0.10344827586206896, neg_mean_absolute_error=-1.2413793103448276, neg_mean_squared_error=-2.206896551724138, total=  30.7s\n"
     ]
    },
    {
     "name": "stderr",
     "output_type": "stream",
     "text": [
      "[Parallel(n_jobs=1)]: Done   5 out of   5 | elapsed: 15.7min remaining:    0.0s\n"
     ]
    },
    {
     "name": "stdout",
     "output_type": "stream",
     "text": [
      "[CV]  ................................................................\n",
      "[CV]  , accuracy=0.3103448275862069, neg_mean_absolute_error=-0.9655172413793104, neg_mean_squared_error=-1.6551724137931034, total=  32.8s\n"
     ]
    },
    {
     "name": "stderr",
     "output_type": "stream",
     "text": [
      "[Parallel(n_jobs=1)]: Done   6 out of   6 | elapsed: 18.9min remaining:    0.0s\n"
     ]
    },
    {
     "name": "stdout",
     "output_type": "stream",
     "text": [
      "[CV]  ................................................................\n",
      "[CV]  , accuracy=0.3793103448275862, neg_mean_absolute_error=-1.0, neg_mean_squared_error=-2.0344827586206895, total=  36.8s\n"
     ]
    },
    {
     "name": "stderr",
     "output_type": "stream",
     "text": [
      "[Parallel(n_jobs=1)]: Done   7 out of   7 | elapsed: 21.9min remaining:    0.0s\n"
     ]
    },
    {
     "name": "stdout",
     "output_type": "stream",
     "text": [
      "[CV]  ................................................................\n",
      "[CV]  , accuracy=0.2857142857142857, neg_mean_absolute_error=-1.1071428571428572, neg_mean_squared_error=-2.107142857142857, total=  38.1s\n"
     ]
    },
    {
     "name": "stderr",
     "output_type": "stream",
     "text": [
      "[Parallel(n_jobs=1)]: Done   8 out of   8 | elapsed: 25.0min remaining:    0.0s\n"
     ]
    },
    {
     "name": "stdout",
     "output_type": "stream",
     "text": [
      "[CV]  ................................................................\n",
      "[CV]  , accuracy=0.14285714285714285, neg_mean_absolute_error=-1.0357142857142858, neg_mean_squared_error=-1.4642857142857142, total=  39.8s\n"
     ]
    },
    {
     "name": "stderr",
     "output_type": "stream",
     "text": [
      "[Parallel(n_jobs=1)]: Done   9 out of   9 | elapsed: 27.9min remaining:    0.0s\n"
     ]
    },
    {
     "name": "stdout",
     "output_type": "stream",
     "text": [
      "[CV]  ................................................................\n",
      "[CV]  , accuracy=0.21428571428571427, neg_mean_absolute_error=-1.0714285714285714, neg_mean_squared_error=-1.7142857142857142, total=  44.3s\n"
     ]
    },
    {
     "name": "stderr",
     "output_type": "stream",
     "text": [
      "[Parallel(n_jobs=1)]: Done  10 out of  10 | elapsed: 30.9min remaining:    0.0s\n",
      "[Parallel(n_jobs=1)]: Done  10 out of  10 | elapsed: 30.9min finished\n"
     ]
    }
   ],
   "source": [
    "result = cross_validate(classifier, X, y, cv=10, verbose=42, return_train_score=True, \\\n",
    "                        scoring=['accuracy', 'neg_mean_absolute_error', 'neg_mean_squared_error'])"
   ]
  },
  {
   "cell_type": "code",
   "execution_count": 18,
   "metadata": {},
   "outputs": [
    {
     "name": "stdout",
     "output_type": "stream",
     "text": [
      "0.5574094490640091 0.26519235892354714\n",
      "0.5699485698668247 0.9875700766958619\n",
      "0.9306606601412217 1.2712163740590834\n"
     ]
    }
   ],
   "source": [
    "print(result['train_accuracy'].mean(), result['test_accuracy'].mean())\n",
    "print(-result['train_neg_mean_absolute_error'].mean(), -result['test_neg_mean_absolute_error'].mean())\n",
    "print(np.sqrt(-result['train_neg_mean_squared_error'].mean()), np.sqrt(-result['test_neg_mean_squared_error'].mean()))"
   ]
  },
  {
   "cell_type": "code",
   "execution_count": 19,
   "metadata": {},
   "outputs": [],
   "source": [
    "def sort_list(list1, list2): \n",
    "    zipped_pairs = zip(list2, list1) \n",
    "    z = [x for _, x in sorted(zipped_pairs)] \n",
    "    return z"
   ]
  },
  {
   "cell_type": "code",
   "execution_count": 20,
   "metadata": {},
   "outputs": [
    {
     "data": {
      "text/plain": [
       "KNeighborsClassifier(algorithm='brute', leaf_size=30,\n",
       "           metric=<function dist_gsr at 0x000001F771F8CEA0>,\n",
       "           metric_params=None, n_jobs=None, n_neighbors=5, p=2,\n",
       "           weights='uniform')"
      ]
     },
     "execution_count": 20,
     "metadata": {},
     "output_type": "execute_result"
    }
   ],
   "source": [
    "classifier.fit(X, y)"
   ]
  },
  {
   "cell_type": "code",
   "execution_count": 21,
   "metadata": {},
   "outputs": [],
   "source": [
    "y_pred = classifier.predict(X_new)"
   ]
  },
  {
   "cell_type": "code",
   "execution_count": 22,
   "metadata": {},
   "outputs": [],
   "source": [
    "accuracy = accuracy_score(y_, y_pred)\n",
    "mae = mean_absolute_error(y_, y_pred)\n",
    "rmse = mean_squared_error(y_, y_pred)"
   ]
  },
  {
   "cell_type": "code",
   "execution_count": 23,
   "metadata": {},
   "outputs": [
    {
     "name": "stdout",
     "output_type": "stream",
     "text": [
      "0.25 1.03 1.71\n"
     ]
    }
   ],
   "source": [
    "print(accuracy, mae, rmse)"
   ]
  },
  {
   "cell_type": "code",
   "execution_count": 24,
   "metadata": {},
   "outputs": [
    {
     "data": {
      "image/png": "[encoded data removed]",
      "text/plain": [
       "<Figure size 432x288 with 1 Axes>"
      ]
     },
     "metadata": {},
     "output_type": "display_data"
    }
   ],
   "source": [
    "y_new = sort_list(y_pred, y_)\n",
    "\n",
    "plt.title('Engaging Predictions')\n",
    "plt.plot(y_new, color='green')\n",
    "plt.plot(sorted(y_), color='red')\n",
    "plt.legend(['predicted', 'actual'])\n",
    "\n",
    "plt.savefig('engaging.eps', format='eps', dpi=1000)\n",
    "plt.savefig('engaging.png', format='png', dpi=1000)\n",
    "\n",
    "plt.show()"
   ]
  },
  {
   "cell_type": "code",
   "execution_count": null,
   "metadata": {},
   "outputs": [],
   "source": []
  }
 ],
 "metadata": {
  "kernelspec": {
   "display_name": "Python 3",
   "language": "python",
   "name": "python3"
  },
  "language_info": {
   "codemirror_mode": {
    "name": "ipython",
    "version": 3
   },
   "file_extension": ".py",
   "mimetype": "text/x-python",
   "name": "python",
   "nbconvert_exporter": "python",
   "pygments_lexer": "ipython3",
   "version": "3.6.5"
  }
 },
 "nbformat": 4,
 "nbformat_minor": 2
}
