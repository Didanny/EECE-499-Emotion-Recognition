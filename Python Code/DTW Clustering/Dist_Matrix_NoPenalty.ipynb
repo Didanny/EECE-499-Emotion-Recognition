{
 "cells": [
  {
   "cell_type": "code",
   "execution_count": 17,
   "metadata": {},
   "outputs": [],
   "source": [
    "import numpy as np\n",
    "import pandas as pd\n",
    "import scipy.io\n",
    "import os\n",
    "from scipy.signal import savgol_filter\n",
    "from dtaidistance import dtw\n",
    "import seaborn as sns\n",
    "from sklearn import preprocessing\n",
    "from numpy import inf\n",
    "from scipy.cluster.hierarchy import dendrogram, linkage\n",
    "from matplotlib import pyplot as plt\n",
    "import scipy.spatial.distance as ssd"
   ]
  },
  {
   "cell_type": "code",
   "execution_count": 18,
   "metadata": {},
   "outputs": [],
   "source": [
    "#load_path = 'D:\\EECE499\\Features\\\\'\n",
    "load_path = '..\\..\\..\\\\'"
   ]
  },
  {
   "cell_type": "code",
   "execution_count": 19,
   "metadata": {},
   "outputs": [],
   "source": [
    "Features = pd.read_excel(load_path + 'Features.xlsx')"
   ]
  },
  {
   "cell_type": "code",
   "execution_count": 20,
   "metadata": {},
   "outputs": [],
   "source": [
    "Ratings = pd.read_excel(load_path + 'Ratings.xlsx')"
   ]
  },
  {
   "cell_type": "code",
   "execution_count": 21,
   "metadata": {},
   "outputs": [
    {
     "data": {
      "text/plain": [
       "(603,)"
      ]
     },
     "execution_count": 21,
     "metadata": {},
     "output_type": "execute_result"
    }
   ],
   "source": [
    "presentations_ids = Features['presentation_id'].values\n",
    "presentations_ids.shape"
   ]
  },
  {
   "cell_type": "code",
   "execution_count": 22,
   "metadata": {},
   "outputs": [
    {
     "name": "stdout",
     "output_type": "stream",
     "text": [
      "4706\r"
     ]
    }
   ],
   "source": [
    "indices_dict = []\n",
    "series = []\n",
    "\n",
    "for i, presentation_id in enumerate(presentations_ids):\n",
    "    print(presentation_id, end='\\r')\n",
    "    \n",
    "    indices_dict.append(presentation_id)\n",
    "    \n",
    "    clip_id = presentation_id % 100\n",
    "    user_id = int(presentation_id / 100)\n",
    "    \n",
    "    #data_path = './../../ASCERTAIN_Raw/GSRData/Movie_P' + str(user_id).zfill(2) + '/GSR_Clip' + str(clip_id) + '.mat'\n",
    "    data_path = 'D:/EECE499/Raw/MyECGFunc/ASCERTAIN_Raw/GSRData/Movie_P' + str(user_id).zfill(2) + '/GSR_Clip' + str(clip_id) + '.mat'\n",
    "    \n",
    "    if os.path.isfile(data_path):\n",
    "        \n",
    "        signal = scipy.io.loadmat(data_path)\n",
    "        resistance = signal['Data_GSR'][:,4]\n",
    "        \n",
    "        resistance = savgol_filter(resistance, 501, 3)\n",
    "        series.append(resistance)  "
   ]
  },
  {
   "cell_type": "code",
   "execution_count": 23,
   "metadata": {},
   "outputs": [],
   "source": [
    "dist_matrix = np.load('dist_matrix.npy')"
   ]
  },
  {
   "cell_type": "code",
   "execution_count": 24,
   "metadata": {},
   "outputs": [
    {
     "data": {
      "text/plain": [
       "array([[             inf,  685999.80847838,    6072.28759009, ...,\n",
       "        3783948.6750768 , 4228522.04475941, 4413644.28624652],\n",
       "       [             inf,              inf,  680700.33258028, ...,\n",
       "        2984104.29115066, 3320866.42893749, 3443009.31890644],\n",
       "       [             inf,              inf,              inf, ...,\n",
       "        3278822.99052139, 4222344.78294347, 3741613.45647243],\n",
       "       ...,\n",
       "       [             inf,              inf,              inf, ...,\n",
       "                     inf,  705816.71935999,  976350.51213576],\n",
       "       [             inf,              inf,              inf, ...,\n",
       "                     inf,              inf,  104844.25074745],\n",
       "       [             inf,              inf,              inf, ...,\n",
       "                     inf,              inf,              inf]])"
      ]
     },
     "execution_count": 24,
     "metadata": {},
     "output_type": "execute_result"
    }
   ],
   "source": [
    "dist_matrix"
   ]
  },
  {
   "cell_type": "code",
   "execution_count": 25,
   "metadata": {},
   "outputs": [
    {
     "data": {
      "text/plain": [
       "<matplotlib.axes._subplots.AxesSubplot at 0x16799415fd0>"
      ]
     },
     "execution_count": 25,
     "metadata": {},
     "output_type": "execute_result"
    },
    {
     "data": {
      "image/png": "[encoded data removed]",
      "text/plain": [
       "<Figure size 432x288 with 2 Axes>"
      ]
     },
     "metadata": {},
     "output_type": "display_data"
    }
   ],
   "source": [
    "sns.heatmap(dist_matrix[:2,:2])"
   ]
  },
  {
   "cell_type": "code",
   "execution_count": 26,
   "metadata": {},
   "outputs": [],
   "source": [
    "#dist_matrix[dist_matrix == inf] = 0.0"
   ]
  },
  {
   "cell_type": "code",
   "execution_count": 27,
   "metadata": {},
   "outputs": [],
   "source": [
    "#sns.heatmap(dist_matrix)"
   ]
  },
  {
   "cell_type": "code",
   "execution_count": 28,
   "metadata": {},
   "outputs": [],
   "source": [
    "#dist_matrix"
   ]
  },
  {
   "cell_type": "code",
   "execution_count": 35,
   "metadata": {},
   "outputs": [
    {
     "data": {
      "text/plain": [
       "(100, 100)"
      ]
     },
     "execution_count": 35,
     "metadata": {},
     "output_type": "execute_result"
    }
   ],
   "source": [
    "dist_matrix.shape"
   ]
  },
  {
   "cell_type": "code",
   "execution_count": 36,
   "metadata": {},
   "outputs": [],
   "source": [
    "i_lower = np.tril_indices(dist_matrix.shape[0], -1)\n",
    "dist_matrix[i_lower] = dist_matrix.T[i_lower]"
   ]
  },
  {
   "cell_type": "code",
   "execution_count": 41,
   "metadata": {},
   "outputs": [],
   "source": [
    "np.fill_diagonal(dist_matrix, 0)"
   ]
  },
  {
   "cell_type": "code",
   "execution_count": 42,
   "metadata": {},
   "outputs": [
    {
     "data": {
      "text/plain": [
       "<matplotlib.axes._subplots.AxesSubplot at 0x1679993dbe0>"
      ]
     },
     "execution_count": 42,
     "metadata": {},
     "output_type": "execute_result"
    },
    {
     "data": {
      "image/png": "[encoded data removed]",
      "text/plain": [
       "<Figure size 432x288 with 2 Axes>"
      ]
     },
     "metadata": {},
     "output_type": "display_data"
    }
   ],
   "source": [
    "sns.heatmap(dist_matrix)"
   ]
  },
  {
   "cell_type": "code",
   "execution_count": 43,
   "metadata": {},
   "outputs": [
    {
     "data": {
      "text/plain": [
       "array([[      0.        ,  685999.80847838,    6072.28759009, ...,\n",
       "        3783948.6750768 , 4228522.04475941, 4413644.28624652],\n",
       "       [ 685999.80847838,       0.        ,  680700.33258028, ...,\n",
       "        2984104.29115066, 3320866.42893749, 3443009.31890644],\n",
       "       [   6072.28759009,  680700.33258028,       0.        , ...,\n",
       "        3278822.99052139, 4222344.78294347, 3741613.45647243],\n",
       "       ...,\n",
       "       [3783948.6750768 , 2984104.29115066, 3278822.99052139, ...,\n",
       "              0.        ,  705816.71935999,  976350.51213576],\n",
       "       [4228522.04475941, 3320866.42893749, 4222344.78294347, ...,\n",
       "         705816.71935999,       0.        ,  104844.25074745],\n",
       "       [4413644.28624652, 3443009.31890644, 3741613.45647243, ...,\n",
       "         976350.51213576,  104844.25074745,       0.        ]])"
      ]
     },
     "execution_count": 43,
     "metadata": {},
     "output_type": "execute_result"
    }
   ],
   "source": [
    "dist_matrix"
   ]
  },
  {
   "cell_type": "code",
   "execution_count": 44,
   "metadata": {},
   "outputs": [],
   "source": [
    "dist_array = ssd.squareform(dist_matrix)"
   ]
  },
  {
   "cell_type": "code",
   "execution_count": 45,
   "metadata": {},
   "outputs": [],
   "source": [
    "Z = linkage(dist_array, method='ward')"
   ]
  },
  {
   "cell_type": "code",
   "execution_count": null,
   "metadata": {},
   "outputs": [],
   "source": [
    "#dist_array[{n choose 2}-{n-i choose 2} + (j-i-1)] is the distance between points i and j\n",
    "#dist_array[{4950}-{n-i choose 2} + (j-i-1)] is the distance between points i and j"
   ]
  },
  {
   "cell_type": "code",
   "execution_count": 46,
   "metadata": {},
   "outputs": [
    {
     "data": {
      "image/png": "[encoded data removed]",
      "text/plain": [
       "<Figure size 1800x720 with 1 Axes>"
      ]
     },
     "metadata": {},
     "output_type": "display_data"
    }
   ],
   "source": [
    "fig = plt.figure(figsize=(25, 10))\n",
    "dn = dendrogram(Z)\n",
    "plt.savefig('dendrogram_no_penalty.png', format='png', dpi=1000)\n",
    "plt.show()"
   ]
  },
  {
   "cell_type": "code",
   "execution_count": 47,
   "metadata": {},
   "outputs": [
    {
     "data": {
      "text/plain": [
       "32.0"
      ]
     },
     "execution_count": 47,
     "metadata": {},
     "output_type": "execute_result"
    }
   ],
   "source": [
    "Z[1,0]"
   ]
  },
  {
   "cell_type": "code",
   "execution_count": 48,
   "metadata": {},
   "outputs": [
    {
     "data": {
      "text/plain": [
       "36.0"
      ]
     },
     "execution_count": 48,
     "metadata": {},
     "output_type": "execute_result"
    }
   ],
   "source": [
    "Z[1,1]"
   ]
  },
  {
   "cell_type": "code",
   "execution_count": 49,
   "metadata": {},
   "outputs": [
    {
     "data": {
      "text/plain": [
       "array([[3.70000000e+01, 4.20000000e+01, 4.14802828e+02, 2.00000000e+00],\n",
       "       [3.20000000e+01, 3.60000000e+01, 5.08117908e+02, 2.00000000e+00],\n",
       "       [4.10000000e+01, 4.30000000e+01, 5.59728895e+02, 2.00000000e+00],\n",
       "       [3.50000000e+01, 1.00000000e+02, 5.90577059e+02, 3.00000000e+00],\n",
       "       [3.40000000e+01, 3.80000000e+01, 6.32345963e+02, 2.00000000e+00],\n",
       "       [3.10000000e+01, 1.04000000e+02, 7.43659741e+02, 3.00000000e+00],\n",
       "       [3.30000000e+01, 3.90000000e+01, 1.10451880e+03, 2.00000000e+00],\n",
       "       [3.00000000e+00, 2.80000000e+01, 1.25717191e+03, 2.00000000e+00],\n",
       "       [0.00000000e+00, 2.70000000e+01, 1.55866213e+03, 2.00000000e+00],\n",
       "       [3.00000000e+01, 1.01000000e+02, 1.72883097e+03, 3.00000000e+00],\n",
       "       [1.02000000e+02, 1.03000000e+02, 1.74805089e+03, 5.00000000e+00],\n",
       "       [5.60000000e+01, 7.70000000e+01, 2.15601472e+03, 2.00000000e+00],\n",
       "       [1.20000000e+01, 2.00000000e+01, 2.16364792e+03, 2.00000000e+00],\n",
       "       [6.40000000e+01, 7.00000000e+01, 2.19150866e+03, 2.00000000e+00],\n",
       "       [6.10000000e+01, 7.20000000e+01, 2.20663928e+03, 2.00000000e+00],\n",
       "       [2.00000000e+00, 7.00000000e+00, 2.47273520e+03, 2.00000000e+00],\n",
       "       [4.70000000e+01, 6.60000000e+01, 2.57160698e+03, 2.00000000e+00],\n",
       "       [4.80000000e+01, 6.20000000e+01, 2.65776045e+03, 2.00000000e+00],\n",
       "       [5.30000000e+01, 5.80000000e+01, 2.71807293e+03, 2.00000000e+00],\n",
       "       [5.40000000e+01, 1.11000000e+02, 2.79280477e+03, 3.00000000e+00],\n",
       "       [6.00000000e+01, 1.17000000e+02, 2.80825938e+03, 3.00000000e+00],\n",
       "       [5.10000000e+01, 7.30000000e+01, 2.82340730e+03, 2.00000000e+00],\n",
       "       [1.05000000e+02, 1.10000000e+02, 2.90315433e+03, 8.00000000e+00],\n",
       "       [2.10000000e+01, 2.60000000e+01, 2.97494868e+03, 2.00000000e+00],\n",
       "       [6.30000000e+01, 6.70000000e+01, 3.14868896e+03, 2.00000000e+00],\n",
       "       [5.70000000e+01, 1.13000000e+02, 3.88479866e+03, 3.00000000e+00],\n",
       "       [7.60000000e+01, 1.14000000e+02, 4.09830449e+03, 3.00000000e+00],\n",
       "       [8.00000000e+00, 1.00000000e+01, 4.14096688e+03, 2.00000000e+00],\n",
       "       [8.10000000e+01, 8.30000000e+01, 4.47232835e+03, 2.00000000e+00],\n",
       "       [1.40000000e+01, 1.07000000e+02, 4.52641105e+03, 3.00000000e+00],\n",
       "       [4.60000000e+01, 1.19000000e+02, 4.83927594e+03, 4.00000000e+00],\n",
       "       [1.70000000e+01, 1.08000000e+02, 5.07323899e+03, 3.00000000e+00],\n",
       "       [4.50000000e+01, 5.90000000e+01, 5.33368037e+03, 2.00000000e+00],\n",
       "       [4.00000000e+01, 1.22000000e+02, 5.41689696e+03, 9.00000000e+00],\n",
       "       [4.00000000e+00, 6.00000000e+00, 5.64761842e+03, 2.00000000e+00],\n",
       "       [1.00000000e+00, 1.30000000e+01, 5.92151224e+03, 2.00000000e+00],\n",
       "       [1.20000000e+02, 1.30000000e+02, 6.74430682e+03, 7.00000000e+00],\n",
       "       [6.80000000e+01, 1.21000000e+02, 7.26567110e+03, 3.00000000e+00],\n",
       "       [4.90000000e+01, 5.20000000e+01, 7.32634080e+03, 2.00000000e+00],\n",
       "       [1.15000000e+02, 1.31000000e+02, 7.47636980e+03, 5.00000000e+00],\n",
       "       [1.12000000e+02, 1.35000000e+02, 7.56775145e+03, 4.00000000e+00],\n",
       "       [7.50000000e+01, 1.38000000e+02, 7.88608570e+03, 3.00000000e+00],\n",
       "       [1.80000000e+01, 2.50000000e+01, 8.12404391e+03, 2.00000000e+00],\n",
       "       [1.23000000e+02, 1.29000000e+02, 8.50209017e+03, 5.00000000e+00],\n",
       "       [7.80000000e+01, 7.90000000e+01, 8.64495820e+03, 2.00000000e+00],\n",
       "       [6.50000000e+01, 7.10000000e+01, 8.69745876e+03, 2.00000000e+00],\n",
       "       [6.90000000e+01, 1.25000000e+02, 8.86419427e+03, 4.00000000e+00],\n",
       "       [8.20000000e+01, 8.40000000e+01, 8.89534713e+03, 2.00000000e+00],\n",
       "       [1.16000000e+02, 1.18000000e+02, 9.07213200e+03, 4.00000000e+00],\n",
       "       [1.90000000e+01, 1.39000000e+02, 9.97368055e+03, 6.00000000e+00],\n",
       "       [1.24000000e+02, 1.37000000e+02, 1.02544328e+04, 5.00000000e+00],\n",
       "       [1.32000000e+02, 1.45000000e+02, 1.10544200e+04, 4.00000000e+00],\n",
       "       [5.00000000e+00, 1.27000000e+02, 1.21188157e+04, 3.00000000e+00],\n",
       "       [9.00000000e+00, 1.43000000e+02, 1.22746229e+04, 6.00000000e+00],\n",
       "       [2.90000000e+01, 1.34000000e+02, 1.37812090e+04, 3.00000000e+00],\n",
       "       [1.50000000e+01, 1.49000000e+02, 1.47395918e+04, 7.00000000e+00],\n",
       "       [1.26000000e+02, 1.46000000e+02, 1.48186706e+04, 7.00000000e+00],\n",
       "       [1.60000000e+01, 2.20000000e+01, 1.63218422e+04, 2.00000000e+00],\n",
       "       [1.10000000e+01, 2.30000000e+01, 1.70224993e+04, 2.00000000e+00],\n",
       "       [7.40000000e+01, 1.36000000e+02, 1.77092745e+04, 8.00000000e+00],\n",
       "       [4.40000000e+01, 1.09000000e+02, 1.86601287e+04, 4.00000000e+00],\n",
       "       [9.60000000e+01, 9.70000000e+01, 1.91371991e+04, 2.00000000e+00],\n",
       "       [1.06000000e+02, 1.60000000e+02, 2.15093506e+04, 6.00000000e+00],\n",
       "       [1.42000000e+02, 1.52000000e+02, 2.18855279e+04, 5.00000000e+00],\n",
       "       [2.40000000e+01, 1.53000000e+02, 2.26417977e+04, 7.00000000e+00],\n",
       "       [1.48000000e+02, 1.50000000e+02, 2.44339144e+04, 9.00000000e+00],\n",
       "       [5.00000000e+01, 5.50000000e+01, 2.49435137e+04, 2.00000000e+00],\n",
       "       [1.28000000e+02, 1.44000000e+02, 2.61022530e+04, 4.00000000e+00],\n",
       "       [1.54000000e+02, 1.57000000e+02, 3.35465062e+04, 5.00000000e+00],\n",
       "       [1.41000000e+02, 1.59000000e+02, 3.44784210e+04, 1.10000000e+01],\n",
       "       [1.33000000e+02, 1.62000000e+02, 4.02154364e+04, 1.50000000e+01],\n",
       "       [8.00000000e+01, 1.67000000e+02, 4.29799931e+04, 5.00000000e+00],\n",
       "       [1.56000000e+02, 1.65000000e+02, 4.46486096e+04, 1.60000000e+01],\n",
       "       [1.47000000e+02, 1.71000000e+02, 5.81483364e+04, 7.00000000e+00],\n",
       "       [9.10000000e+01, 1.61000000e+02, 5.95786244e+04, 3.00000000e+00],\n",
       "       [1.55000000e+02, 1.64000000e+02, 6.22588155e+04, 1.40000000e+01],\n",
       "       [8.90000000e+01, 9.40000000e+01, 6.53070817e+04, 2.00000000e+00],\n",
       "       [1.51000000e+02, 1.72000000e+02, 8.04546425e+04, 2.00000000e+01],\n",
       "       [9.80000000e+01, 9.90000000e+01, 1.04844251e+05, 2.00000000e+00],\n",
       "       [8.50000000e+01, 9.50000000e+01, 1.31990638e+05, 2.00000000e+00],\n",
       "       [1.69000000e+02, 1.77000000e+02, 1.59513197e+05, 3.10000000e+01],\n",
       "       [1.63000000e+02, 1.75000000e+02, 2.18565870e+05, 1.90000000e+01],\n",
       "       [1.73000000e+02, 1.74000000e+02, 2.41478593e+05, 1.00000000e+01],\n",
       "       [9.30000000e+01, 1.78000000e+02, 2.54952620e+05, 3.00000000e+00],\n",
       "       [8.60000000e+01, 9.00000000e+01, 2.69416632e+05, 2.00000000e+00],\n",
       "       [8.70000000e+01, 8.80000000e+01, 3.26601580e+05, 2.00000000e+00],\n",
       "       [9.20000000e+01, 1.84000000e+02, 4.02249501e+05, 3.00000000e+00],\n",
       "       [1.79000000e+02, 1.82000000e+02, 4.12403110e+05, 1.20000000e+01],\n",
       "       [1.85000000e+02, 1.86000000e+02, 4.98416684e+05, 5.00000000e+00],\n",
       "       [1.40000000e+02, 1.58000000e+02, 6.83713351e+05, 6.00000000e+00],\n",
       "       [1.70000000e+02, 1.81000000e+02, 7.62396243e+05, 3.40000000e+01],\n",
       "       [1.76000000e+02, 1.88000000e+02, 1.09649551e+06, 7.00000000e+00],\n",
       "       [1.68000000e+02, 1.89000000e+02, 1.11520314e+06, 1.10000000e+01],\n",
       "       [1.66000000e+02, 1.80000000e+02, 1.53002378e+06, 3.30000000e+01],\n",
       "       [1.83000000e+02, 1.91000000e+02, 1.65608158e+06, 1.00000000e+01],\n",
       "       [1.90000000e+02, 1.92000000e+02, 3.09111149e+06, 4.50000000e+01],\n",
       "       [1.87000000e+02, 1.94000000e+02, 3.30623990e+06, 2.20000000e+01],\n",
       "       [1.93000000e+02, 1.95000000e+02, 1.00701029e+07, 7.80000000e+01],\n",
       "       [1.96000000e+02, 1.97000000e+02, 1.84548391e+07, 1.00000000e+02]])"
      ]
     },
     "execution_count": 49,
     "metadata": {},
     "output_type": "execute_result"
    }
   ],
   "source": [
    "Z"
   ]
  },
  {
   "cell_type": "code",
   "execution_count": 50,
   "metadata": {},
   "outputs": [],
   "source": [
    "dist_matrix_penalty = np.load('dist_matrix_penalty.npy')"
   ]
  },
  {
   "cell_type": "code",
   "execution_count": 54,
   "metadata": {},
   "outputs": [],
   "source": [
    "i_lower = np.tril_indices(dist_matrix_penalty.shape[0], -1)\n",
    "dist_matrix_penalty[i_lower] = dist_matrix_penalty.T[i_lower]"
   ]
  },
  {
   "cell_type": "code",
   "execution_count": 55,
   "metadata": {},
   "outputs": [],
   "source": [
    "np.fill_diagonal(dist_matrix_penalty, 0)"
   ]
  },
  {
   "cell_type": "code",
   "execution_count": 56,
   "metadata": {},
   "outputs": [
    {
     "data": {
      "text/plain": [
       "<matplotlib.axes._subplots.AxesSubplot at 0x16799fc9630>"
      ]
     },
     "execution_count": 56,
     "metadata": {},
     "output_type": "execute_result"
    },
    {
     "data": {
      "image/png": "[encoded data removed]",
      "text/plain": [
       "<Figure size 432x288 with 2 Axes>"
      ]
     },
     "metadata": {},
     "output_type": "display_data"
    }
   ],
   "source": [
    "sns.heatmap(dist_matrix_penalty)"
   ]
  },
  {
   "cell_type": "code",
   "execution_count": 57,
   "metadata": {},
   "outputs": [],
   "source": [
    "dist_array_penalty = ssd.squareform(dist_matrix_penalty)"
   ]
  },
  {
   "cell_type": "code",
   "execution_count": 58,
   "metadata": {},
   "outputs": [
    {
     "data": {
      "image/png": "[encoded data removed]",
      "text/plain": [
       "<Figure size 1800x720 with 1 Axes>"
      ]
     },
     "metadata": {},
     "output_type": "display_data"
    }
   ],
   "source": [
    "Z_2 = linkage(dist_array_penalty, method='ward')\n",
    "\n",
    "fig = plt.figure(figsize=(25, 10))\n",
    "dn = dendrogram(Z_2)\n",
    "plt.savefig('dendrogram_penalty.png', format='png', dpi=1000)\n",
    "plt.show()"
   ]
  },
  {
   "cell_type": "code",
   "execution_count": 59,
   "metadata": {},
   "outputs": [
    {
     "data": {
      "text/plain": [
       "array([[3.70000000e+01, 4.20000000e+01, 4.14802828e+02, 2.00000000e+00],\n",
       "       [3.20000000e+01, 3.60000000e+01, 5.08117908e+02, 2.00000000e+00],\n",
       "       [4.10000000e+01, 4.30000000e+01, 5.59728895e+02, 2.00000000e+00],\n",
       "       [3.50000000e+01, 1.00000000e+02, 5.90577059e+02, 3.00000000e+00],\n",
       "       [3.40000000e+01, 3.80000000e+01, 6.32345963e+02, 2.00000000e+00],\n",
       "       [3.10000000e+01, 1.04000000e+02, 7.43659741e+02, 3.00000000e+00],\n",
       "       [3.30000000e+01, 3.90000000e+01, 1.10451880e+03, 2.00000000e+00],\n",
       "       [3.00000000e+00, 2.80000000e+01, 1.25717191e+03, 2.00000000e+00],\n",
       "       [0.00000000e+00, 2.70000000e+01, 1.55866213e+03, 2.00000000e+00],\n",
       "       [3.00000000e+01, 1.01000000e+02, 1.72883097e+03, 3.00000000e+00],\n",
       "       [1.02000000e+02, 1.03000000e+02, 1.74805089e+03, 5.00000000e+00],\n",
       "       [5.60000000e+01, 7.70000000e+01, 2.15601472e+03, 2.00000000e+00],\n",
       "       [1.20000000e+01, 2.00000000e+01, 2.16364792e+03, 2.00000000e+00],\n",
       "       [6.40000000e+01, 7.00000000e+01, 2.19150866e+03, 2.00000000e+00],\n",
       "       [6.10000000e+01, 7.20000000e+01, 2.20663928e+03, 2.00000000e+00],\n",
       "       [2.00000000e+00, 7.00000000e+00, 2.47273520e+03, 2.00000000e+00],\n",
       "       [4.70000000e+01, 6.60000000e+01, 2.57160698e+03, 2.00000000e+00],\n",
       "       [4.80000000e+01, 6.20000000e+01, 2.65776045e+03, 2.00000000e+00],\n",
       "       [5.30000000e+01, 5.80000000e+01, 2.71807293e+03, 2.00000000e+00],\n",
       "       [5.40000000e+01, 1.11000000e+02, 2.79280477e+03, 3.00000000e+00],\n",
       "       [6.00000000e+01, 1.17000000e+02, 2.80825938e+03, 3.00000000e+00],\n",
       "       [5.10000000e+01, 7.30000000e+01, 2.82340730e+03, 2.00000000e+00],\n",
       "       [1.05000000e+02, 1.10000000e+02, 2.90315433e+03, 8.00000000e+00],\n",
       "       [2.10000000e+01, 2.60000000e+01, 2.97494868e+03, 2.00000000e+00],\n",
       "       [6.30000000e+01, 6.70000000e+01, 3.14868896e+03, 2.00000000e+00],\n",
       "       [5.70000000e+01, 1.13000000e+02, 3.88479866e+03, 3.00000000e+00],\n",
       "       [7.60000000e+01, 1.14000000e+02, 4.09830449e+03, 3.00000000e+00],\n",
       "       [8.00000000e+00, 1.00000000e+01, 4.14096688e+03, 2.00000000e+00],\n",
       "       [8.10000000e+01, 8.30000000e+01, 4.47232835e+03, 2.00000000e+00],\n",
       "       [1.40000000e+01, 1.07000000e+02, 4.52641105e+03, 3.00000000e+00],\n",
       "       [4.60000000e+01, 1.19000000e+02, 4.83927594e+03, 4.00000000e+00],\n",
       "       [1.70000000e+01, 1.08000000e+02, 5.07323899e+03, 3.00000000e+00],\n",
       "       [4.50000000e+01, 5.90000000e+01, 5.33368037e+03, 2.00000000e+00],\n",
       "       [4.00000000e+01, 1.22000000e+02, 5.41689696e+03, 9.00000000e+00],\n",
       "       [4.00000000e+00, 6.00000000e+00, 5.64761842e+03, 2.00000000e+00],\n",
       "       [1.00000000e+00, 1.30000000e+01, 5.92151224e+03, 2.00000000e+00],\n",
       "       [1.20000000e+02, 1.30000000e+02, 6.74430682e+03, 7.00000000e+00],\n",
       "       [6.80000000e+01, 1.21000000e+02, 7.26567110e+03, 3.00000000e+00],\n",
       "       [4.90000000e+01, 5.20000000e+01, 7.32634080e+03, 2.00000000e+00],\n",
       "       [1.15000000e+02, 1.31000000e+02, 7.47636980e+03, 5.00000000e+00],\n",
       "       [1.12000000e+02, 1.35000000e+02, 7.56775145e+03, 4.00000000e+00],\n",
       "       [7.50000000e+01, 1.38000000e+02, 7.88608570e+03, 3.00000000e+00],\n",
       "       [1.80000000e+01, 2.50000000e+01, 8.12404391e+03, 2.00000000e+00],\n",
       "       [1.23000000e+02, 1.29000000e+02, 8.50209017e+03, 5.00000000e+00],\n",
       "       [7.80000000e+01, 7.90000000e+01, 8.64495820e+03, 2.00000000e+00],\n",
       "       [6.50000000e+01, 7.10000000e+01, 8.69745876e+03, 2.00000000e+00],\n",
       "       [6.90000000e+01, 1.25000000e+02, 8.86419427e+03, 4.00000000e+00],\n",
       "       [8.20000000e+01, 8.40000000e+01, 8.89534713e+03, 2.00000000e+00],\n",
       "       [1.16000000e+02, 1.18000000e+02, 9.07213200e+03, 4.00000000e+00],\n",
       "       [1.90000000e+01, 1.39000000e+02, 9.97368055e+03, 6.00000000e+00],\n",
       "       [1.24000000e+02, 1.37000000e+02, 1.02544328e+04, 5.00000000e+00],\n",
       "       [1.32000000e+02, 1.45000000e+02, 1.10544200e+04, 4.00000000e+00],\n",
       "       [5.00000000e+00, 1.27000000e+02, 1.21188157e+04, 3.00000000e+00],\n",
       "       [9.00000000e+00, 1.43000000e+02, 1.22746229e+04, 6.00000000e+00],\n",
       "       [2.90000000e+01, 1.34000000e+02, 1.37812090e+04, 3.00000000e+00],\n",
       "       [1.50000000e+01, 1.49000000e+02, 1.47395918e+04, 7.00000000e+00],\n",
       "       [1.26000000e+02, 1.46000000e+02, 1.48186706e+04, 7.00000000e+00],\n",
       "       [1.60000000e+01, 2.20000000e+01, 1.63218422e+04, 2.00000000e+00],\n",
       "       [1.10000000e+01, 2.30000000e+01, 1.70224993e+04, 2.00000000e+00],\n",
       "       [7.40000000e+01, 1.36000000e+02, 1.77092745e+04, 8.00000000e+00],\n",
       "       [4.40000000e+01, 1.09000000e+02, 1.86601287e+04, 4.00000000e+00],\n",
       "       [9.60000000e+01, 9.70000000e+01, 1.91371991e+04, 2.00000000e+00],\n",
       "       [1.06000000e+02, 1.60000000e+02, 2.15093506e+04, 6.00000000e+00],\n",
       "       [1.42000000e+02, 1.52000000e+02, 2.18855279e+04, 5.00000000e+00],\n",
       "       [2.40000000e+01, 1.53000000e+02, 2.26417977e+04, 7.00000000e+00],\n",
       "       [1.48000000e+02, 1.50000000e+02, 2.44339144e+04, 9.00000000e+00],\n",
       "       [5.00000000e+01, 5.50000000e+01, 2.49435137e+04, 2.00000000e+00],\n",
       "       [1.28000000e+02, 1.44000000e+02, 2.61022530e+04, 4.00000000e+00],\n",
       "       [1.54000000e+02, 1.57000000e+02, 3.35465062e+04, 5.00000000e+00],\n",
       "       [1.41000000e+02, 1.59000000e+02, 3.44784210e+04, 1.10000000e+01],\n",
       "       [1.33000000e+02, 1.62000000e+02, 4.02154364e+04, 1.50000000e+01],\n",
       "       [8.00000000e+01, 1.67000000e+02, 4.29799931e+04, 5.00000000e+00],\n",
       "       [1.56000000e+02, 1.65000000e+02, 4.46486096e+04, 1.60000000e+01],\n",
       "       [1.47000000e+02, 1.71000000e+02, 5.81483364e+04, 7.00000000e+00],\n",
       "       [9.10000000e+01, 1.61000000e+02, 5.95786244e+04, 3.00000000e+00],\n",
       "       [1.55000000e+02, 1.64000000e+02, 6.22588155e+04, 1.40000000e+01],\n",
       "       [8.90000000e+01, 9.40000000e+01, 6.53070817e+04, 2.00000000e+00],\n",
       "       [1.51000000e+02, 1.72000000e+02, 8.04546425e+04, 2.00000000e+01],\n",
       "       [9.80000000e+01, 9.90000000e+01, 1.04844251e+05, 2.00000000e+00],\n",
       "       [8.50000000e+01, 9.50000000e+01, 1.31990638e+05, 2.00000000e+00],\n",
       "       [1.69000000e+02, 1.77000000e+02, 1.59513197e+05, 3.10000000e+01],\n",
       "       [1.63000000e+02, 1.75000000e+02, 2.18565870e+05, 1.90000000e+01],\n",
       "       [1.73000000e+02, 1.74000000e+02, 2.41478593e+05, 1.00000000e+01],\n",
       "       [9.30000000e+01, 1.78000000e+02, 2.54952620e+05, 3.00000000e+00],\n",
       "       [8.60000000e+01, 9.00000000e+01, 2.69416632e+05, 2.00000000e+00],\n",
       "       [8.70000000e+01, 8.80000000e+01, 3.26601580e+05, 2.00000000e+00],\n",
       "       [9.20000000e+01, 1.84000000e+02, 4.02249501e+05, 3.00000000e+00],\n",
       "       [1.79000000e+02, 1.82000000e+02, 4.12403110e+05, 1.20000000e+01],\n",
       "       [1.85000000e+02, 1.86000000e+02, 4.98416684e+05, 5.00000000e+00],\n",
       "       [1.40000000e+02, 1.58000000e+02, 6.83713351e+05, 6.00000000e+00],\n",
       "       [1.70000000e+02, 1.81000000e+02, 7.62396243e+05, 3.40000000e+01],\n",
       "       [1.76000000e+02, 1.88000000e+02, 1.09649551e+06, 7.00000000e+00],\n",
       "       [1.68000000e+02, 1.89000000e+02, 1.11520314e+06, 1.10000000e+01],\n",
       "       [1.66000000e+02, 1.80000000e+02, 1.53002378e+06, 3.30000000e+01],\n",
       "       [1.83000000e+02, 1.91000000e+02, 1.65608158e+06, 1.00000000e+01],\n",
       "       [1.90000000e+02, 1.92000000e+02, 3.09111149e+06, 4.50000000e+01],\n",
       "       [1.87000000e+02, 1.94000000e+02, 3.30623990e+06, 2.20000000e+01],\n",
       "       [1.93000000e+02, 1.95000000e+02, 1.00701029e+07, 7.80000000e+01],\n",
       "       [1.96000000e+02, 1.97000000e+02, 1.84548391e+07, 1.00000000e+02]])"
      ]
     },
     "execution_count": 59,
     "metadata": {},
     "output_type": "execute_result"
    }
   ],
   "source": [
    "Z"
   ]
  },
  {
   "cell_type": "code",
   "execution_count": 60,
   "metadata": {},
   "outputs": [
    {
     "data": {
      "text/plain": [
       "array([[3.70000000e+01, 4.20000000e+01, 4.29467248e+02, 2.00000000e+00],\n",
       "       [3.20000000e+01, 3.60000000e+01, 5.26611553e+02, 2.00000000e+00],\n",
       "       [4.10000000e+01, 4.30000000e+01, 5.72229312e+02, 2.00000000e+00],\n",
       "       [3.50000000e+01, 1.00000000e+02, 6.04569001e+02, 3.00000000e+00],\n",
       "       [3.40000000e+01, 3.80000000e+01, 6.43870010e+02, 2.00000000e+00],\n",
       "       [3.10000000e+01, 1.04000000e+02, 7.51886427e+02, 3.00000000e+00],\n",
       "       [3.30000000e+01, 3.90000000e+01, 1.10953173e+03, 2.00000000e+00],\n",
       "       [3.00000000e+00, 2.80000000e+01, 1.25990347e+03, 2.00000000e+00],\n",
       "       [0.00000000e+00, 2.70000000e+01, 1.56183117e+03, 2.00000000e+00],\n",
       "       [3.00000000e+01, 1.01000000e+02, 1.73096526e+03, 3.00000000e+00],\n",
       "       [1.02000000e+02, 1.03000000e+02, 1.75181221e+03, 5.00000000e+00],\n",
       "       [5.60000000e+01, 7.70000000e+01, 2.15821839e+03, 2.00000000e+00],\n",
       "       [1.20000000e+01, 2.00000000e+01, 2.16558762e+03, 2.00000000e+00],\n",
       "       [6.40000000e+01, 7.00000000e+01, 2.19392103e+03, 2.00000000e+00],\n",
       "       [6.10000000e+01, 7.20000000e+01, 2.20863630e+03, 2.00000000e+00],\n",
       "       [2.00000000e+00, 7.00000000e+00, 2.47465769e+03, 2.00000000e+00],\n",
       "       [4.70000000e+01, 6.60000000e+01, 2.57355265e+03, 2.00000000e+00],\n",
       "       [4.80000000e+01, 6.20000000e+01, 2.66041462e+03, 2.00000000e+00],\n",
       "       [5.30000000e+01, 5.80000000e+01, 2.71991273e+03, 2.00000000e+00],\n",
       "       [5.40000000e+01, 1.11000000e+02, 2.79523164e+03, 3.00000000e+00],\n",
       "       [6.00000000e+01, 1.17000000e+02, 2.80995501e+03, 3.00000000e+00],\n",
       "       [5.10000000e+01, 7.30000000e+01, 2.82575620e+03, 2.00000000e+00],\n",
       "       [1.05000000e+02, 1.10000000e+02, 2.90498653e+03, 8.00000000e+00],\n",
       "       [2.10000000e+01, 2.60000000e+01, 2.97647532e+03, 2.00000000e+00],\n",
       "       [6.30000000e+01, 6.70000000e+01, 3.15054609e+03, 2.00000000e+00],\n",
       "       [5.70000000e+01, 1.13000000e+02, 3.88581645e+03, 3.00000000e+00],\n",
       "       [7.60000000e+01, 1.14000000e+02, 4.09971386e+03, 3.00000000e+00],\n",
       "       [8.00000000e+00, 1.00000000e+01, 4.14178583e+03, 2.00000000e+00],\n",
       "       [8.10000000e+01, 8.30000000e+01, 4.47505010e+03, 2.00000000e+00],\n",
       "       [1.40000000e+01, 1.07000000e+02, 4.52723400e+03, 3.00000000e+00],\n",
       "       [4.60000000e+01, 1.19000000e+02, 4.84027685e+03, 4.00000000e+00],\n",
       "       [1.70000000e+01, 1.08000000e+02, 5.07500339e+03, 3.00000000e+00],\n",
       "       [4.50000000e+01, 5.90000000e+01, 5.33499345e+03, 2.00000000e+00],\n",
       "       [4.00000000e+01, 1.22000000e+02, 5.41675409e+03, 9.00000000e+00],\n",
       "       [4.00000000e+00, 6.00000000e+00, 5.64858765e+03, 2.00000000e+00],\n",
       "       [1.00000000e+00, 1.30000000e+01, 5.92242304e+03, 2.00000000e+00],\n",
       "       [1.20000000e+02, 1.30000000e+02, 6.74518429e+03, 7.00000000e+00],\n",
       "       [6.80000000e+01, 1.21000000e+02, 7.26692502e+03, 3.00000000e+00],\n",
       "       [4.90000000e+01, 5.20000000e+01, 7.32750297e+03, 2.00000000e+00],\n",
       "       [1.15000000e+02, 1.31000000e+02, 7.47688017e+03, 5.00000000e+00],\n",
       "       [1.12000000e+02, 1.35000000e+02, 7.56831593e+03, 4.00000000e+00],\n",
       "       [7.50000000e+01, 1.38000000e+02, 7.88687453e+03, 3.00000000e+00],\n",
       "       [1.80000000e+01, 2.50000000e+01, 8.12528559e+03, 2.00000000e+00],\n",
       "       [1.23000000e+02, 1.29000000e+02, 8.50308174e+03, 5.00000000e+00],\n",
       "       [7.80000000e+01, 7.90000000e+01, 8.64599520e+03, 2.00000000e+00],\n",
       "       [6.50000000e+01, 7.10000000e+01, 8.69837238e+03, 2.00000000e+00],\n",
       "       [6.90000000e+01, 1.25000000e+02, 8.86513564e+03, 4.00000000e+00],\n",
       "       [8.20000000e+01, 8.40000000e+01, 8.89602962e+03, 2.00000000e+00],\n",
       "       [1.16000000e+02, 1.18000000e+02, 9.07309416e+03, 4.00000000e+00],\n",
       "       [1.90000000e+01, 1.39000000e+02, 9.97469177e+03, 6.00000000e+00],\n",
       "       [1.24000000e+02, 1.37000000e+02, 1.02552469e+04, 5.00000000e+00],\n",
       "       [1.32000000e+02, 1.45000000e+02, 1.10553541e+04, 4.00000000e+00],\n",
       "       [5.00000000e+00, 1.27000000e+02, 1.21193114e+04, 3.00000000e+00],\n",
       "       [9.00000000e+00, 1.43000000e+02, 1.22751521e+04, 6.00000000e+00],\n",
       "       [2.90000000e+01, 1.34000000e+02, 1.37815087e+04, 3.00000000e+00],\n",
       "       [1.50000000e+01, 1.49000000e+02, 1.47400874e+04, 7.00000000e+00],\n",
       "       [1.26000000e+02, 1.46000000e+02, 1.48191296e+04, 7.00000000e+00],\n",
       "       [1.60000000e+01, 2.20000000e+01, 1.63221476e+04, 2.00000000e+00],\n",
       "       [1.10000000e+01, 2.30000000e+01, 1.70228469e+04, 2.00000000e+00],\n",
       "       [7.40000000e+01, 1.36000000e+02, 1.77098624e+04, 8.00000000e+00],\n",
       "       [4.40000000e+01, 1.09000000e+02, 1.86605364e+04, 4.00000000e+00],\n",
       "       [9.60000000e+01, 9.70000000e+01, 1.91375760e+04, 2.00000000e+00],\n",
       "       [1.06000000e+02, 1.60000000e+02, 2.15092459e+04, 6.00000000e+00],\n",
       "       [1.42000000e+02, 1.52000000e+02, 2.18859884e+04, 5.00000000e+00],\n",
       "       [2.40000000e+01, 1.53000000e+02, 2.26423276e+04, 7.00000000e+00],\n",
       "       [1.48000000e+02, 1.50000000e+02, 2.44342214e+04, 9.00000000e+00],\n",
       "       [5.00000000e+01, 5.50000000e+01, 2.49437499e+04, 2.00000000e+00],\n",
       "       [1.28000000e+02, 1.44000000e+02, 2.61023172e+04, 4.00000000e+00],\n",
       "       [1.54000000e+02, 1.57000000e+02, 3.35466595e+04, 5.00000000e+00],\n",
       "       [1.41000000e+02, 1.59000000e+02, 3.44786120e+04, 1.10000000e+01],\n",
       "       [1.33000000e+02, 1.62000000e+02, 4.02150057e+04, 1.50000000e+01],\n",
       "       [8.00000000e+01, 1.67000000e+02, 4.29799663e+04, 5.00000000e+00],\n",
       "       [1.56000000e+02, 1.65000000e+02, 4.46488590e+04, 1.60000000e+01],\n",
       "       [1.47000000e+02, 1.71000000e+02, 5.81482471e+04, 7.00000000e+00],\n",
       "       [9.10000000e+01, 1.61000000e+02, 5.95787645e+04, 3.00000000e+00],\n",
       "       [1.55000000e+02, 1.64000000e+02, 6.22592189e+04, 1.40000000e+01],\n",
       "       [8.90000000e+01, 9.40000000e+01, 6.53071711e+04, 2.00000000e+00],\n",
       "       [1.51000000e+02, 1.72000000e+02, 8.04546916e+04, 2.00000000e+01],\n",
       "       [9.80000000e+01, 9.90000000e+01, 1.04844334e+05, 2.00000000e+00],\n",
       "       [8.50000000e+01, 9.50000000e+01, 1.31990704e+05, 2.00000000e+00],\n",
       "       [1.69000000e+02, 1.77000000e+02, 1.59513130e+05, 3.10000000e+01],\n",
       "       [1.63000000e+02, 1.75000000e+02, 2.18565748e+05, 1.90000000e+01],\n",
       "       [1.73000000e+02, 1.74000000e+02, 2.41478583e+05, 1.00000000e+01],\n",
       "       [9.30000000e+01, 1.78000000e+02, 2.54952654e+05, 3.00000000e+00],\n",
       "       [8.60000000e+01, 9.00000000e+01, 2.69416661e+05, 2.00000000e+00],\n",
       "       [8.70000000e+01, 8.80000000e+01, 3.26601611e+05, 2.00000000e+00],\n",
       "       [9.20000000e+01, 1.84000000e+02, 4.02249525e+05, 3.00000000e+00],\n",
       "       [1.79000000e+02, 1.82000000e+02, 4.12403154e+05, 1.20000000e+01],\n",
       "       [1.85000000e+02, 1.86000000e+02, 4.98416703e+05, 5.00000000e+00],\n",
       "       [1.40000000e+02, 1.58000000e+02, 6.83713363e+05, 6.00000000e+00],\n",
       "       [1.70000000e+02, 1.81000000e+02, 7.62396176e+05, 3.40000000e+01],\n",
       "       [1.76000000e+02, 1.88000000e+02, 1.09649552e+06, 7.00000000e+00],\n",
       "       [1.68000000e+02, 1.89000000e+02, 1.11520314e+06, 1.10000000e+01],\n",
       "       [1.66000000e+02, 1.80000000e+02, 1.53002379e+06, 3.30000000e+01],\n",
       "       [1.83000000e+02, 1.91000000e+02, 1.65608159e+06, 1.00000000e+01],\n",
       "       [1.90000000e+02, 1.92000000e+02, 3.09111151e+06, 4.50000000e+01],\n",
       "       [1.87000000e+02, 1.94000000e+02, 3.30623990e+06, 2.20000000e+01],\n",
       "       [1.93000000e+02, 1.95000000e+02, 1.00701029e+07, 7.80000000e+01],\n",
       "       [1.96000000e+02, 1.97000000e+02, 1.84548391e+07, 1.00000000e+02]])"
      ]
     },
     "execution_count": 60,
     "metadata": {},
     "output_type": "execute_result"
    }
   ],
   "source": [
    "Z_2"
   ]
  },
  {
   "cell_type": "code",
   "execution_count": null,
   "metadata": {},
   "outputs": [],
   "source": []
  }
 ],
 "metadata": {
  "kernelspec": {
   "display_name": "Python 3",
   "language": "python",
   "name": "python3"
  },
  "language_info": {
   "codemirror_mode": {
    "name": "ipython",
    "version": 3
   },
   "file_extension": ".py",
   "mimetype": "text/x-python",
   "name": "python",
   "nbconvert_exporter": "python",
   "pygments_lexer": "ipython3",
   "version": "3.6.5"
  }
 },
 "nbformat": 4,
 "nbformat_minor": 2
}
