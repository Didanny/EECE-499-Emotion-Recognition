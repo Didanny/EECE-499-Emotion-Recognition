{
 "cells": [
  {
   "cell_type": "code",
   "execution_count": 25,
   "metadata": {},
   "outputs": [],
   "source": [
    "import numpy as np\n",
    "import pandas as pd\n",
    "import scipy.io\n",
    "import os\n",
    "from scipy.signal import savgol_filter\n",
    "from dtaidistance import dtw\n",
    "import seaborn as sns\n",
    "from sklearn import preprocessing\n",
    "from numpy import inf\n",
    "from scipy.cluster.hierarchy import dendrogram, linkage, cut_tree\n",
    "from matplotlib import pyplot as plt\n",
    "import scipy.spatial.distance as ssd\n",
    "from sklearn.neighbors import KNeighborsClassifier\n",
    "from sklearn.model_selection import cross_validate\n",
    "from sklearn.metrics import mean_absolute_error, mean_squared_error, accuracy_score"
   ]
  },
  {
   "cell_type": "code",
   "execution_count": 26,
   "metadata": {},
   "outputs": [],
   "source": [
    "#load_path = 'D:\\EECE499\\Features\\\\'\n",
    "load_path = '..\\..\\..\\\\'"
   ]
  },
  {
   "cell_type": "code",
   "execution_count": 27,
   "metadata": {},
   "outputs": [],
   "source": [
    "Features = pd.read_excel(load_path + 'Features.xlsx')"
   ]
  },
  {
   "cell_type": "code",
   "execution_count": 28,
   "metadata": {},
   "outputs": [],
   "source": [
    "Ratings = pd.read_excel(load_path + 'Ratings.xlsx')"
   ]
  },
  {
   "cell_type": "code",
   "execution_count": 29,
   "metadata": {},
   "outputs": [
    {
     "data": {
      "text/plain": [
       "(603,)"
      ]
     },
     "execution_count": 29,
     "metadata": {},
     "output_type": "execute_result"
    }
   ],
   "source": [
    "presentations_ids = Features['presentation_id'].values\n",
    "presentations_ids.shape"
   ]
  },
  {
   "cell_type": "code",
   "execution_count": 30,
   "metadata": {},
   "outputs": [
    {
     "name": "stdout",
     "output_type": "stream",
     "text": [
      "4706\r"
     ]
    }
   ],
   "source": [
    "indices_dict = []\n",
    "series_gsr = []\n",
    "series_neuro_sky = []\n",
    "series_attention = []\n",
    "series_meditation = []\n",
    "series_alpha = []\n",
    "series_beta = []\n",
    "series_delta = []\n",
    "series_gamma = []\n",
    "series_theta = []\n",
    "\n",
    "for i, presentation_id in enumerate(presentations_ids):\n",
    "    print(presentation_id, end='\\r')\n",
    "    \n",
    "    indices_dict.append(presentation_id)\n",
    "    \n",
    "    clip_id = presentation_id % 100\n",
    "    user_id = int(presentation_id / 100)\n",
    "    \n",
    "    #data_path = './../../ASCERTAIN_Raw/GSRData/Movie_P' + str(user_id).zfill(2) + '/GSR_Clip' + str(clip_id) + '.mat'\n",
    "    data_path = 'D:/EECE499/Raw/MyECGFunc/ASCERTAIN_Raw/GSRData/Movie_P' + str(user_id).zfill(2) + '/GSR_Clip' + str(clip_id) + '.mat'\n",
    "    \n",
    "    if os.path.isfile(data_path):\n",
    "        \n",
    "        signal = scipy.io.loadmat(data_path)\n",
    "        resistance = signal['Data_GSR'][:,4]\n",
    "        \n",
    "        resistance = savgol_filter(resistance, 501, 3)\n",
    "        series_gsr.append(resistance)\n",
    "    \n",
    "    data_path = 'D:/EECE499/Raw/MyECGFunc/ASCERTAIN_Raw/EEGData/Movie_P' + str(user_id).zfill(2) + '/EEG_Clip' + str(clip_id) + '.mat'\n",
    "    \n",
    "    if os.path.isfile(data_path):\n",
    "        \n",
    "        signal = scipy.io.loadmat(data_path)\n",
    "        \n",
    "        neuro_sky_EEG_raw = np.array(signal['ThisEEG'][0])\n",
    "        attention_raw = np.array(signal['ThisEEG'][1])\n",
    "        meditation_raw = np.array(signal['ThisEEG'][2])\n",
    "        alpha_raw = np.array(signal['ThisEEG'][3])\n",
    "        beta_raw = np.array(signal['ThisEEG'][4])\n",
    "        delta_raw = np.array(signal['ThisEEG'][5])\n",
    "        gamma_raw = np.array(signal['ThisEEG'][6])\n",
    "        theta_raw = np.array(signal['ThisEEG'][7])\n",
    "        \n",
    "        window = 51 #101\n",
    "        order = 4 #3\n",
    "        try:\n",
    "            neuro_sky_EEG_raw = savgol_filter(neuro_sky_EEG_raw, window, order)\n",
    "            attention_raw = savgol_filter(attention_raw, window, order)\n",
    "            meditation_raw = savgol_filter(meditation_raw, window, order)\n",
    "            alpha_raw = savgol_filter(alpha_raw, window, order)\n",
    "            beta_raw = savgol_filter(beta_raw, window, order)\n",
    "            delta_raw = savgol_filter(delta_raw, window, order)\n",
    "            gamma_raw = savgol_filter(gamma_raw, window, order)\n",
    "            theta_raw = savgol_filter(theta_raw, window, order)\n",
    "        except:\n",
    "            l = len(neuro_sky_EEG_raw)\n",
    "            neuro_sky_EEG_raw = np.zeros(l)\n",
    "            attention_raw = np.zeros(l)\n",
    "            meditation_raw = np.zeros(l)\n",
    "            alpha_raw = np.zeros(l)\n",
    "            beta_raw = np.zeros(l)\n",
    "            delta_raw = np.zeros(l)\n",
    "            gamma_raw = np.zeros(l)\n",
    "            theta_raw = np.zeros(l)\n",
    "        \n",
    "        series_neuro_sky.append(neuro_sky_EEG_raw)\n",
    "        series_attention.append(attention_raw)\n",
    "        series_meditation.append(meditation_raw)\n",
    "        series_alpha.append(alpha_raw)\n",
    "        series_beta.append(beta_raw)\n",
    "        series_delta.append(delta_raw)\n",
    "        series_gamma.append(gamma_raw)\n",
    "        series_theta.append(theta_raw)"
   ]
  },
  {
   "cell_type": "code",
   "execution_count": 31,
   "metadata": {},
   "outputs": [],
   "source": [
    "dm_gsr = np.load('dist_matrix.npy')\n",
    "dm_attention = np.load('dm_attention.npy')\n",
    "dm_neuro_sky = np.load('dm_neuro_sky.npy')\n",
    "dm_meditation = np.load('dm_meditation.npy')\n",
    "dm_alpha = np.load('dm_alpha.npy')\n",
    "dm_beta = np.load('dm_beta.npy')\n",
    "dm_delta = np.load('dm_delta.npy')\n",
    "dm_gamma = np.load('dm_gamma.npy')\n",
    "dm_theta = np.load('dm_theta.npy')"
   ]
  },
  {
   "cell_type": "code",
   "execution_count": 32,
   "metadata": {},
   "outputs": [],
   "source": [
    "def reformat_matrix(dm):\n",
    "    i_lower = np.tril_indices(dm.shape[0], -1)\n",
    "    dm[i_lower] = dm.T[i_lower]\n",
    "    np.fill_diagonal(dm, 0)\n",
    "    return dm"
   ]
  },
  {
   "cell_type": "code",
   "execution_count": 33,
   "metadata": {},
   "outputs": [],
   "source": [
    "dm_gsr = reformat_matrix(dm_gsr)\n",
    "dm_attention = reformat_matrix(dm_attention)\n",
    "dm_neuro_sky = reformat_matrix(dm_neuro_sky)\n",
    "dm_meditation = reformat_matrix(dm_meditation)\n",
    "dm_alpha = reformat_matrix(dm_alpha)\n",
    "dm_beta = reformat_matrix(dm_beta)\n",
    "dm_delta = reformat_matrix(dm_delta)\n",
    "dm_gamma = reformat_matrix(dm_gamma)\n",
    "dm_theta = reformat_matrix(dm_theta)"
   ]
  },
  {
   "cell_type": "code",
   "execution_count": 34,
   "metadata": {},
   "outputs": [],
   "source": [
    "dist_matrix_gsr = dm_gsr\n",
    "dist_matrix_eeg = dm_attention + dm_neuro_sky + dm_meditation + dm_alpha + dm_beta + dm_delta + dm_gamma + dm_theta\n",
    "dist_matrix_gsr = dist_matrix_gsr + dist_matrix_eeg"
   ]
  },
  {
   "cell_type": "code",
   "execution_count": 35,
   "metadata": {},
   "outputs": [],
   "source": [
    "dist_array_gsr = ssd.squareform(dist_matrix_gsr)\n",
    "dist_array_eeg = ssd.squareform(dist_matrix_eeg)"
   ]
  },
  {
   "cell_type": "code",
   "execution_count": 36,
   "metadata": {},
   "outputs": [],
   "source": [
    "def get_index(x):\n",
    "    return indices_dict.index(x)\n",
    "\n",
    "def dist_gsr(x1, x2):\n",
    "    i1 = get_index(x1)\n",
    "    i2 = get_index(x2)\n",
    "    return dist_matrix_gsr[i1, i2]\n",
    "\n",
    "def dist_eeg(x1, x2):\n",
    "    i1 = get_index(x1)\n",
    "    i2 = get_index(x2)\n",
    "    return dist_matrix_eeg[i1, i2]"
   ]
  },
  {
   "cell_type": "code",
   "execution_count": 37,
   "metadata": {},
   "outputs": [],
   "source": [
    "y = []\n",
    "for c in indices_dict:\n",
    "    y.append(Ratings.iloc[(Ratings.presentation_id == c).values]['arousal'].values[0])"
   ]
  },
  {
   "cell_type": "code",
   "execution_count": 38,
   "metadata": {},
   "outputs": [],
   "source": [
    "X = np.array(indices_dict).reshape(603, 1)"
   ]
  },
  {
   "cell_type": "code",
   "execution_count": 39,
   "metadata": {},
   "outputs": [
    {
     "data": {
      "text/plain": [
       "KNeighborsClassifier(algorithm='brute', leaf_size=30,\n",
       "           metric=<function dist_gsr at 0x000001A6A0EA0488>,\n",
       "           metric_params=None, n_jobs=None, n_neighbors=5, p=2,\n",
       "           weights='uniform')"
      ]
     },
     "execution_count": 39,
     "metadata": {},
     "output_type": "execute_result"
    }
   ],
   "source": [
    "classifier = KNeighborsClassifier(n_neighbors=5, metric=dist_gsr, algorithm='brute')\n",
    "classifier"
   ]
  },
  {
   "cell_type": "code",
   "execution_count": 40,
   "metadata": {},
   "outputs": [],
   "source": [
    "limit = 300\n",
    "X_new = X[limit:limit+100]\n",
    "y_ = y[limit:limit+100] \n",
    "X = X[:limit]\n",
    "y = y[:limit]"
   ]
  },
  {
   "cell_type": "code",
   "execution_count": 41,
   "metadata": {},
   "outputs": [
    {
     "name": "stderr",
     "output_type": "stream",
     "text": [
      "[Parallel(n_jobs=1)]: Using backend SequentialBackend with 1 concurrent workers.\n",
      "C:\\Users\\Danny\\Anaconda3\\lib\\site-packages\\sklearn\\model_selection\\_split.py:652: Warning: The least populated class in y has only 4 members, which is too few. The minimum number of members in any class cannot be less than n_splits=10.\n",
      "  % (min_groups, self.n_splits)), Warning)\n"
     ]
    },
    {
     "name": "stdout",
     "output_type": "stream",
     "text": [
      "[CV]  ................................................................\n",
      "[CV]  , accuracy=0.21212121212121213, neg_mean_absolute_error=-1.1818181818181819, neg_mean_squared_error=-2.272727272727273, total=   9.1s\n"
     ]
    },
    {
     "name": "stderr",
     "output_type": "stream",
     "text": [
      "[Parallel(n_jobs=1)]: Done   1 out of   1 | elapsed:  2.3min remaining:    0.0s\n"
     ]
    },
    {
     "name": "stdout",
     "output_type": "stream",
     "text": [
      "[CV]  ................................................................\n",
      "[CV]  , accuracy=0.21212121212121213, neg_mean_absolute_error=-1.3636363636363635, neg_mean_squared_error=-3.0, total=  26.8s\n"
     ]
    },
    {
     "name": "stderr",
     "output_type": "stream",
     "text": [
      "[Parallel(n_jobs=1)]: Done   2 out of   2 | elapsed:  5.4min remaining:    0.0s\n"
     ]
    },
    {
     "name": "stdout",
     "output_type": "stream",
     "text": [
      "[CV]  ................................................................\n",
      "[CV]  , accuracy=0.21212121212121213, neg_mean_absolute_error=-1.1818181818181819, neg_mean_squared_error=-2.212121212121212, total=  30.2s\n"
     ]
    },
    {
     "name": "stderr",
     "output_type": "stream",
     "text": [
      "[Parallel(n_jobs=1)]: Done   3 out of   3 | elapsed:  8.6min remaining:    0.0s\n"
     ]
    },
    {
     "name": "stdout",
     "output_type": "stream",
     "text": [
      "[CV]  ................................................................\n",
      "[CV]  , accuracy=0.09375, neg_mean_absolute_error=-1.3125, neg_mean_squared_error=-2.5625, total=  34.3s\n"
     ]
    },
    {
     "name": "stderr",
     "output_type": "stream",
     "text": [
      "[Parallel(n_jobs=1)]: Done   4 out of   4 | elapsed: 11.7min remaining:    0.0s\n"
     ]
    },
    {
     "name": "stdout",
     "output_type": "stream",
     "text": [
      "[CV]  ................................................................\n",
      "[CV]  , accuracy=0.36666666666666664, neg_mean_absolute_error=-0.9333333333333333, neg_mean_squared_error=-1.6, total=  32.7s\n"
     ]
    },
    {
     "name": "stderr",
     "output_type": "stream",
     "text": [
      "[Parallel(n_jobs=1)]: Done   5 out of   5 | elapsed: 14.8min remaining:    0.0s\n"
     ]
    },
    {
     "name": "stdout",
     "output_type": "stream",
     "text": [
      "[CV]  ................................................................\n",
      "[CV]  , accuracy=0.16666666666666666, neg_mean_absolute_error=-1.2333333333333334, neg_mean_squared_error=-2.1666666666666665, total=  33.8s\n"
     ]
    },
    {
     "name": "stderr",
     "output_type": "stream",
     "text": [
      "[Parallel(n_jobs=1)]: Done   6 out of   6 | elapsed: 17.8min remaining:    0.0s\n"
     ]
    },
    {
     "name": "stdout",
     "output_type": "stream",
     "text": [
      "[CV]  ................................................................\n",
      "[CV]  , accuracy=0.35714285714285715, neg_mean_absolute_error=-0.7857142857142857, neg_mean_squared_error=-1.0714285714285714, total=  37.7s\n"
     ]
    },
    {
     "name": "stderr",
     "output_type": "stream",
     "text": [
      "[Parallel(n_jobs=1)]: Done   7 out of   7 | elapsed: 20.9min remaining:    0.0s\n"
     ]
    },
    {
     "name": "stdout",
     "output_type": "stream",
     "text": [
      "[CV]  ................................................................\n",
      "[CV]  , accuracy=0.21428571428571427, neg_mean_absolute_error=-1.25, neg_mean_squared_error=-2.392857142857143, total=  37.3s\n"
     ]
    },
    {
     "name": "stderr",
     "output_type": "stream",
     "text": [
      "[Parallel(n_jobs=1)]: Done   8 out of   8 | elapsed: 24.0min remaining:    0.0s\n"
     ]
    },
    {
     "name": "stdout",
     "output_type": "stream",
     "text": [
      "[CV]  ................................................................\n",
      "[CV]  , accuracy=0.25925925925925924, neg_mean_absolute_error=-1.3333333333333333, neg_mean_squared_error=-2.888888888888889, total=  38.6s\n"
     ]
    },
    {
     "name": "stderr",
     "output_type": "stream",
     "text": [
      "[Parallel(n_jobs=1)]: Done   9 out of   9 | elapsed: 27.0min remaining:    0.0s\n"
     ]
    },
    {
     "name": "stdout",
     "output_type": "stream",
     "text": [
      "[CV]  ................................................................\n",
      "[CV]  , accuracy=0.2692307692307692, neg_mean_absolute_error=-1.4615384615384615, neg_mean_squared_error=-4.0, total=  39.5s\n"
     ]
    },
    {
     "name": "stderr",
     "output_type": "stream",
     "text": [
      "[Parallel(n_jobs=1)]: Done  10 out of  10 | elapsed: 30.1min remaining:    0.0s\n",
      "[Parallel(n_jobs=1)]: Done  10 out of  10 | elapsed: 30.1min finished\n"
     ]
    }
   ],
   "source": [
    "result = cross_validate(classifier, X, y, cv=10, verbose=42, return_train_score=True, \\\n",
    "                        scoring=['accuracy', 'neg_mean_absolute_error', 'neg_mean_squared_error'])"
   ]
  },
  {
   "cell_type": "code",
   "execution_count": 42,
   "metadata": {},
   "outputs": [
    {
     "name": "stdout",
     "output_type": "stream",
     "text": [
      "0.5203608528664364 0.23633655696155698\n",
      "0.7484582269621274 1.2037025474525476\n",
      "1.2433318900502315 1.5545799997005543\n"
     ]
    }
   ],
   "source": [
    "print(result['train_accuracy'].mean(), result['test_accuracy'].mean())\n",
    "print(-result['train_neg_mean_absolute_error'].mean(), -result['test_neg_mean_absolute_error'].mean())\n",
    "print(np.sqrt(-result['train_neg_mean_squared_error'].mean()), np.sqrt(-result['test_neg_mean_squared_error'].mean()))"
   ]
  },
  {
   "cell_type": "code",
   "execution_count": 43,
   "metadata": {},
   "outputs": [],
   "source": [
    "def sort_list(list1, list2): \n",
    "    zipped_pairs = zip(list2, list1) \n",
    "    z = [x for _, x in sorted(zipped_pairs)] \n",
    "    return z"
   ]
  },
  {
   "cell_type": "code",
   "execution_count": 44,
   "metadata": {},
   "outputs": [
    {
     "data": {
      "text/plain": [
       "KNeighborsClassifier(algorithm='brute', leaf_size=30,\n",
       "           metric=<function dist_gsr at 0x000001A6A0EA0488>,\n",
       "           metric_params=None, n_jobs=None, n_neighbors=5, p=2,\n",
       "           weights='uniform')"
      ]
     },
     "execution_count": 44,
     "metadata": {},
     "output_type": "execute_result"
    }
   ],
   "source": [
    "classifier.fit(X, y)"
   ]
  },
  {
   "cell_type": "code",
   "execution_count": 45,
   "metadata": {},
   "outputs": [],
   "source": [
    "y_pred = classifier.predict(X_new)"
   ]
  },
  {
   "cell_type": "code",
   "execution_count": 46,
   "metadata": {},
   "outputs": [],
   "source": [
    "accuracy = accuracy_score(y_, y_pred)\n",
    "mae = mean_absolute_error(y_, y_pred)\n",
    "rmse = mean_squared_error(y_, y_pred)"
   ]
  },
  {
   "cell_type": "code",
   "execution_count": 47,
   "metadata": {},
   "outputs": [
    {
     "name": "stdout",
     "output_type": "stream",
     "text": [
      "0.24 1.2 2.44\n"
     ]
    }
   ],
   "source": [
    "print(accuracy, mae, rmse)"
   ]
  },
  {
   "cell_type": "code",
   "execution_count": 48,
   "metadata": {},
   "outputs": [
    {
     "data": {
      "image/png": "[encoded data removed]",
      "text/plain": [
       "<Figure size 432x288 with 1 Axes>"
      ]
     },
     "metadata": {},
     "output_type": "display_data"
    }
   ],
   "source": [
    "y_new = sort_list(y_pred, y_)\n",
    "\n",
    "plt.title('Arousal Predictions')\n",
    "plt.plot(y_new, color='green')\n",
    "plt.plot(sorted(y_), color='red')\n",
    "plt.legend(['predicted', 'actual'])\n",
    "\n",
    "plt.savefig('arousal.eps', format='eps', dpi=1000)\n",
    "plt.savefig('arousal.png', format='png', dpi=1000)\n",
    "\n",
    "plt.show()"
   ]
  },
  {
   "cell_type": "code",
   "execution_count": null,
   "metadata": {},
   "outputs": [],
   "source": []
  }
 ],
 "metadata": {
  "kernelspec": {
   "display_name": "Python 3",
   "language": "python",
   "name": "python3"
  },
  "language_info": {
   "codemirror_mode": {
    "name": "ipython",
    "version": 3
   },
   "file_extension": ".py",
   "mimetype": "text/x-python",
   "name": "python",
   "nbconvert_exporter": "python",
   "pygments_lexer": "ipython3",
   "version": "3.6.5"
  }
 },
 "nbformat": 4,
 "nbformat_minor": 2
}
