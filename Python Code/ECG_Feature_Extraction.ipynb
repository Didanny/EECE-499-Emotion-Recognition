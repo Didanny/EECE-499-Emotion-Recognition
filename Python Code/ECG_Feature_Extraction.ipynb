{
 "cells": [
  {
   "cell_type": "code",
   "execution_count": 84,
   "metadata": {},
   "outputs": [],
   "source": [
    "import numpy as np\n",
    "import scipy.io\n",
    "from scipy.stats import kurtosis\n",
    "from scipy.stats import skew\n",
    "import os"
   ]
  },
  {
   "cell_type": "code",
   "execution_count": 85,
   "metadata": {},
   "outputs": [],
   "source": [
    "SampleRate = 256"
   ]
  },
  {
   "cell_type": "code",
   "execution_count": 86,
   "metadata": {},
   "outputs": [],
   "source": [
    "HBLDetections = scipy.io.loadmat('./../Ascertain_Feature Extraction_Implementations-V1/ECG/HBLDetections.mat')\n",
    "#HBLDetections = HBLDetections['ClipHBLs']"
   ]
  },
  {
   "cell_type": "code",
   "execution_count": 87,
   "metadata": {},
   "outputs": [],
   "source": [
    "PreferableChannel_done = scipy.io.loadmat('./../Ascertain_Feature Extraction_Implementations-V1/ECG/PreferableChannel_done.mat')\n",
    "#HBLDetections = HBLDetections['ClipHBLs']"
   ]
  },
  {
   "cell_type": "code",
   "execution_count": 88,
   "metadata": {
    "scrolled": true
   },
   "outputs": [
    {
     "data": {
      "text/plain": [
       "array([  0.15625   ,   0.8359375 ,   1.53125   ,   2.24609375,\n",
       "         2.98046875,   3.6640625 ,   4.3671875 ,   5.1015625 ,\n",
       "         5.88671875,   6.71484375,   7.515625  ,   8.29296875,\n",
       "         9.109375  ,   9.94140625,  10.76953125,  11.5390625 ,\n",
       "        12.265625  ,  13.0078125 ,  13.78515625,  14.60546875,\n",
       "        15.4453125 ,  16.21875   ,  17.        ,  17.81640625,\n",
       "        18.640625  ,  19.44921875,  20.19140625,  20.96875   ,\n",
       "        21.76171875,  22.5703125 ,  23.32421875,  24.08203125,\n",
       "        24.890625  ,  25.7421875 ,  26.5546875 ,  27.34375   ,\n",
       "        28.171875  ,  29.02734375,  29.86328125,  30.61328125,\n",
       "        31.40625   ,  32.1796875 ,  32.93359375,  33.62890625,\n",
       "        34.34765625,  35.1328125 ,  35.96875   ,  36.80859375,\n",
       "        37.60546875,  38.44921875,  39.30859375,  40.12890625,\n",
       "        40.89453125,  41.69140625,  42.50390625,  43.296875  ,\n",
       "        44.03515625,  44.79296875,  45.59375   ,  46.453125  ,\n",
       "        47.3046875 ,  48.10546875,  48.94921875,  49.828125  ,\n",
       "        50.69921875,  51.53125   ,  52.3046875 ,  53.1015625 ,\n",
       "        53.94921875,  54.79296875,  55.578125  ,  56.38671875,\n",
       "        57.23046875,  58.078125  ,  58.87890625,  59.6953125 ,\n",
       "        60.546875  ,  61.41015625,  62.22265625,  63.00390625,\n",
       "        63.81640625,  64.66796875,  65.51953125,  66.3203125 ,\n",
       "        67.15625   ,  68.02734375,  68.90625   ,  69.71484375,\n",
       "        70.4921875 ,  71.31640625,  72.16796875,  73.0078125 ,\n",
       "        73.7890625 ,  74.609375  ,  75.46484375,  76.3359375 ,\n",
       "        77.13671875,  77.953125  ,  78.80859375,  79.6796875 ,\n",
       "        80.4921875 ,  81.296875  ,  82.12109375,  82.9453125 ,\n",
       "        83.70703125,  84.46484375,  85.2734375 ,  86.12109375,\n",
       "        86.9375    ,  87.7578125 ,  88.61328125,  89.5078125 ,\n",
       "        90.3359375 ,  91.1328125 ,  91.9609375 ,  92.82421875,\n",
       "        93.65234375,  94.42578125,  95.23046875,  96.0546875 ,\n",
       "        96.88671875,  97.66796875,  98.47265625,  99.30859375,\n",
       "       100.18359375, 100.99609375, 101.7890625 , 102.62109375,\n",
       "       103.48828125, 104.33984375, 105.1328125 , 105.94140625,\n",
       "       106.765625  , 107.61328125, 108.4140625 ])"
      ]
     },
     "execution_count": 88,
     "metadata": {},
     "output_type": "execute_result"
    }
   ],
   "source": [
    "HBLDetections['ClipHBLs'][0,0][0,0][0]"
   ]
  },
  {
   "cell_type": "code",
   "execution_count": 89,
   "metadata": {
    "scrolled": true
   },
   "outputs": [
    {
     "data": {
      "text/plain": [
       "{'__header__': b'MATLAB 5.0 MAT-file, Platform: PCWIN64, Created on: Mon Aug 08 19:16:12 2016',\n",
       " '__version__': '1.0',\n",
       " '__globals__': [],\n",
       " 'ClipID': array([[36]], dtype=uint8),\n",
       " 'ECGHREval42': array([[3, 6, 1, ..., 2, 4, 2],\n",
       "        [3, 6, 1, ..., 2, 4, 2],\n",
       "        [3, 6, 3, ..., 2, 4, 2],\n",
       "        ...,\n",
       "        [2, 6, 6, ..., 2, 4, 2],\n",
       "        [1, 6, 6, ..., 3, 4, 3],\n",
       "        [2, 6, 6, ..., 3, 4, 3]], dtype=uint8),\n",
       " 'Ev': array([[2],\n",
       "        [2],\n",
       "        [3],\n",
       "        [3]], dtype=uint8),\n",
       " 'Preferable': array([[1, 1, 1, ..., 1, 1, 1],\n",
       "        [1, 1, 1, ..., 1, 1, 1],\n",
       "        [1, 1, 1, ..., 1, 1, 1],\n",
       "        ...,\n",
       "        [1, 1, 1, ..., 1, 1, 1],\n",
       "        [1, 1, 1, ..., 1, 1, 1],\n",
       "        [1, 1, 1, ..., 1, 1, 1]], dtype=uint8),\n",
       " 'UserID': array([[42]], dtype=uint8)}"
      ]
     },
     "execution_count": 89,
     "metadata": {},
     "output_type": "execute_result"
    }
   ],
   "source": [
    "PreferableChannel_done"
   ]
  },
  {
   "cell_type": "code",
   "execution_count": 90,
   "metadata": {
    "scrolled": true
   },
   "outputs": [
    {
     "data": {
      "text/plain": [
       "'10'"
      ]
     },
     "execution_count": 90,
     "metadata": {},
     "output_type": "execute_result"
    }
   ],
   "source": [
    "ECGFeatures = [[] for i in range(1, 68)]\n",
    "#ECGFeatures = np.array(ECGFeatures)\n",
    "str(10).zfill(2)"
   ]
  },
  {
   "cell_type": "code",
   "execution_count": 106,
   "metadata": {
    "scrolled": false
   },
   "outputs": [
    {
     "name": "stdout",
     "output_type": "stream",
     "text": [
      "USER ID 10\n",
      "10\n",
      "[array([[ 0.3125    ,  0.94921875,  1.609375  ,  2.28515625,  3.05078125,\n",
      "         3.8828125 ,  4.69921875,  5.44140625,  6.203125  ,  6.9921875 ,\n",
      "         7.79296875,  8.55859375,  9.27734375, 10.01953125, 10.7578125 ,\n",
      "        11.51171875, 12.23046875, 12.9453125 , 13.66796875, 14.3984375 ,\n",
      "        15.1328125 , 15.84765625, 16.57421875, 17.328125  , 18.11328125,\n",
      "        18.8828125 , 19.625     , 20.39453125, 21.1796875 , 21.96875   ,\n",
      "        22.72265625, 23.4921875 , 24.2734375 , 25.0390625 , 25.76171875,\n",
      "        26.515625  , 27.29296875, 28.07421875, 28.8359375 , 29.60546875,\n",
      "        30.390625  , 31.16796875, 31.8984375 , 32.6484375 , 33.421875  ,\n",
      "        34.21484375, 34.98828125, 35.73046875, 36.50390625, 37.2890625 ,\n",
      "        38.05078125, 38.7734375 , 39.52734375, 40.30859375, 41.09765625,\n",
      "        41.82421875, 42.57421875, 43.34765625, 44.1171875 , 44.8359375 ,\n",
      "        45.57421875, 46.33984375, 47.12109375, 47.86328125, 48.61328125,\n",
      "        49.3671875 , 50.1328125 , 50.8515625 , 51.578125  , 52.328125  ,\n",
      "        53.078125  , 53.79296875, 54.52734375, 55.28125   , 56.05078125,\n",
      "        56.76953125, 57.51171875, 58.2734375 , 59.03515625, 59.75      ,\n",
      "        60.4765625 , 61.21875   , 61.96484375, 62.66796875, 63.3984375 ,\n",
      "        64.140625  , 64.8984375 , 65.61328125, 66.36328125, 67.1328125 ,\n",
      "        67.90625   , 68.6484375 , 69.41015625, 70.1875    , 70.94140625,\n",
      "        71.65234375, 72.38671875, 73.14453125, 73.90625   , 74.62890625,\n",
      "        75.3671875 , 76.15625   , 76.94921875, 77.703125  , 78.4609375 ,\n",
      "        79.25      , 80.02734375, 80.75390625, 81.4765625 , 82.2265625 ,\n",
      "        82.98828125, 83.71484375, 84.43359375, 85.18359375, 85.953125  ,\n",
      "        86.69921875, 87.4375    , 88.19921875, 88.9609375 , 89.6796875 ,\n",
      "        90.40625   , 91.16015625, 91.921875  , 92.640625  , 93.34375   ,\n",
      "        94.08203125, 94.84375   , 95.58984375, 96.296875  ]])]\n"
     ]
    },
    {
     "name": "stderr",
     "output_type": "stream",
     "text": [
      "C:\\Users\\Danny\\Anaconda3\\lib\\site-packages\\numpy\\core\\fromnumeric.py:2957: RuntimeWarning: Mean of empty slice.\n",
      "  out=out, **kwargs)\n",
      "C:\\Users\\Danny\\Anaconda3\\lib\\site-packages\\numpy\\core\\_methods.py:80: RuntimeWarning: invalid value encountered in true_divide\n",
      "  ret = ret.dtype.type(ret / rcount)\n",
      "C:\\Users\\Danny\\Anaconda3\\lib\\site-packages\\numpy\\core\\_methods.py:135: RuntimeWarning: Degrees of freedom <= 0 for slice\n",
      "  keepdims=keepdims)\n",
      "C:\\Users\\Danny\\Anaconda3\\lib\\site-packages\\numpy\\core\\_methods.py:105: RuntimeWarning: invalid value encountered in true_divide\n",
      "  arrmean, rcount, out=arrmean, casting='unsafe', subok=False)\n",
      "C:\\Users\\Danny\\Anaconda3\\lib\\site-packages\\numpy\\core\\_methods.py:127: RuntimeWarning: invalid value encountered in true_divide\n",
      "  ret = ret.dtype.type(ret / rcount)\n",
      "C:\\Users\\Danny\\Anaconda3\\lib\\site-packages\\ipykernel_launcher.py:51: RuntimeWarning: invalid value encountered in long_scalars\n"
     ]
    },
    {
     "ename": "TypeError",
     "evalue": "numpy boolean subtract, the `-` operator, is deprecated, use the bitwise_xor, the `^` operator, or the logical_xor function instead.",
     "output_type": "error",
     "traceback": [
      "\u001b[1;31m---------------------------------------------------------------------------\u001b[0m",
      "\u001b[1;31mTypeError\u001b[0m                                 Traceback (most recent call last)",
      "\u001b[1;32m<ipython-input-106-6fb69070c5e9>\u001b[0m in \u001b[0;36m<module>\u001b[1;34m()\u001b[0m\n\u001b[0;32m     50\u001b[0m                                 \u001b[0mskew\u001b[0m\u001b[1;33m(\u001b[0m\u001b[0mIBI\u001b[0m\u001b[1;33m)\u001b[0m\u001b[1;33m,\u001b[0m\u001b[1;33m\u001b[0m\u001b[0m\n\u001b[0;32m     51\u001b[0m                                 \u001b[0mnp\u001b[0m\u001b[1;33m.\u001b[0m\u001b[0msum\u001b[0m\u001b[1;33m(\u001b[0m\u001b[0mIBI\u001b[0m \u001b[1;33m>\u001b[0m \u001b[1;33m(\u001b[0m\u001b[0mnp\u001b[0m\u001b[1;33m.\u001b[0m\u001b[0mmean\u001b[0m\u001b[1;33m(\u001b[0m\u001b[0mIBI\u001b[0m\u001b[1;33m)\u001b[0m \u001b[1;33m+\u001b[0m \u001b[0mnp\u001b[0m\u001b[1;33m.\u001b[0m\u001b[0mstd\u001b[0m\u001b[1;33m(\u001b[0m\u001b[0mIBI\u001b[0m\u001b[1;33m)\u001b[0m\u001b[1;33m)\u001b[0m\u001b[1;33m)\u001b[0m \u001b[1;33m/\u001b[0m \u001b[0mlen\u001b[0m\u001b[1;33m(\u001b[0m\u001b[0mIBI\u001b[0m\u001b[1;33m)\u001b[0m\u001b[1;33m,\u001b[0m\u001b[1;33m\u001b[0m\u001b[0m\n\u001b[1;32m---> 52\u001b[1;33m                                 np.sum(IBI < (np.mean(IBI) - np.std(IBI))) / len(IBI)]\n\u001b[0m\u001b[0;32m     53\u001b[0m \u001b[1;33m\u001b[0m\u001b[0m\n\u001b[0;32m     54\u001b[0m \u001b[1;33m\u001b[0m\u001b[0m\n",
      "\u001b[1;31mTypeError\u001b[0m: numpy boolean subtract, the `-` operator, is deprecated, use the bitwise_xor, the `^` operator, or the logical_xor function instead."
     ]
    }
   ],
   "source": [
    "Preferable = PreferableChannel_done['Preferable']\n",
    "ClipHBLs = HBLDetections['ClipHBLs']\n",
    "\n",
    "signal = 0\n",
    "for UserID in range(10, 11): #68\n",
    "    print('USER ID ' + str(UserID))\n",
    "    \n",
    "    # Create features and failures lists for each user\n",
    "    ECGFeatures = [[] for i in range(1, 68)]\n",
    "    ECGFailures = [[] for i in range(1, 68)]\n",
    "    print(UserID)\n",
    "    \n",
    "    for ClipID in range(1, 2): #37\n",
    "        \n",
    "        # check if data exists for this user and this clip\n",
    "        dataPath = './../ASCERTAIN_Raw/ECGData/Movie_P' + str(UserID).zfill(2) + '/ECG_Clip' + str(ClipID) + '.mat'\n",
    "        if os.path.isfile(dataPath):\n",
    "           \n",
    "            signal = scipy.io.loadmat(dataPath)\n",
    "            Data_ECG = signal['Data_ECG']\n",
    "            #print(Data_ECG)\n",
    "            \n",
    "            if UserID < 11:\n",
    "                ECG2 = np.array([Data_ECG[2, :], Data_ECG[3, :]])\n",
    "            else:\n",
    "                ECG2 = np.array([Data_ECG[5, :], Data_ECG[6, :]])\n",
    "                \n",
    "            #print(ECG2)\n",
    "            \n",
    "            if (Data_ECG.shape[0] >= 50*SampleRate):\n",
    "                \n",
    "                GoodChannel = Preferable[UserID - 1, ClipID - 1]\n",
    "                HeartBeatsL = ClipHBLs[ClipID - 1, UserID - 1]\n",
    "                #print(HeartBeatsL)\n",
    "                ECG2 = ECG2[len(ECG2) - 50*SampleRate:len(ECG2), GoodChannel]\n",
    "                HeartBeatsL = HeartBeatsL[:,GoodChannel - 1]\n",
    "                print(HeartBeatsL)\n",
    "                \n",
    "                if (HeartBeatsL[-1][0].any() > 50):\n",
    "                    HeartBeatsL = HeartBeatsL[HeartBeatsL > HeartBeatsL[-1] - 50]\n",
    "                    HeartBeatsL = HeartBeatsL - min(HeartBeatsL[0])\n",
    "                    \n",
    "                #print(HeartBeatsL)  \n",
    "                IBI = np.diff(HeartBeatsL)\n",
    "                HR = 60 / IBI\n",
    "                HRV = HR[1:] - HR[:-1]\n",
    "                IBIFeatures = [ np.mean(IBI),\n",
    "                                np.std(IBI), \n",
    "                                kurtosis(IBI),\n",
    "                                skew(IBI), \n",
    "                                np.sum(IBI > (np.mean(IBI) + np.std(IBI))) / len(IBI), \n",
    "                                np.sum(IBI < (np.mean(IBI) - np.std(IBI))) / len(IBI)]\n",
    "                \n",
    "                \n",
    "            else:\n",
    "                print('Shorter than 50 secs')\n",
    "                Features = np.zeros(32) + np.nan\n",
    "                ECGFailures[UserID].append(ClipID)\n",
    "        "
   ]
  },
  {
   "cell_type": "code",
   "execution_count": null,
   "metadata": {
    "scrolled": false
   },
   "outputs": [],
   "source": [
    "HeartBeatsL[0].shape"
   ]
  },
  {
   "cell_type": "code",
   "execution_count": null,
   "metadata": {
    "scrolled": true
   },
   "outputs": [],
   "source": [
    "signal['V_ECG']"
   ]
  }
 ],
 "metadata": {
  "kernelspec": {
   "display_name": "Python 3",
   "language": "python",
   "name": "python3"
  },
  "language_info": {
   "codemirror_mode": {
    "name": "ipython",
    "version": 3
   },
   "file_extension": ".py",
   "mimetype": "text/x-python",
   "name": "python",
   "nbconvert_exporter": "python",
   "pygments_lexer": "ipython3",
   "version": "3.6.5"
  }
 },
 "nbformat": 4,
 "nbformat_minor": 2
}
