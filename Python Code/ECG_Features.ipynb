{
 "cells": [
  {
   "cell_type": "code",
   "execution_count": 2,
   "metadata": {},
   "outputs": [],
   "source": [
    "import numpy as np\n",
    "import numpy.linalg as la\n",
    "import scipy.io\n",
    "from scipy.stats import kurtosis\n",
    "from scipy.stats import skew\n",
    "from scipy.signal import savgol_filter\n",
    "from scipy.signal import find_peaks\n",
    "from scipy import signal\n",
    "import os\n",
    "import pandas as pd"
   ]
  },
  {
   "cell_type": "code",
   "execution_count": 3,
   "metadata": {},
   "outputs": [],
   "source": [
    "import matplotlib.pyplot as plt"
   ]
  },
  {
   "cell_type": "code",
   "execution_count": 4,
   "metadata": {},
   "outputs": [],
   "source": [
    "sample_rate = 256"
   ]
  },
  {
   "cell_type": "code",
   "execution_count": 6,
   "metadata": {},
   "outputs": [
    {
     "name": "stdout",
     "output_type": "stream",
     "text": [
      "User ID: 1\n",
      "Clip ID: 1\n",
      "Clip ID: 2\n",
      "Clip ID: 3\n",
      "Clip ID: 4\n",
      "Clip ID: 5\n",
      "Clip ID: 6\n",
      "Clip ID: 7\n",
      "Clip ID: 8\n",
      "Clip ID: 9\n"
     ]
    }
   ],
   "source": [
    "for user_id in range(1, 2):\n",
    "    print('User ID: ' + str(user_id))\n",
    "    \n",
    "    presentation_id = []\n",
    "    \n",
    "    for clip_id in range(1, 10):\n",
    "        print('Clip ID: ' + str(clip_id))\n",
    "        \n",
    "        data_path = './../ASCERTAIN_Raw/ECGData/Movie_P' + str(user_id).zfill(2) + '/ECG_Clip' + str(clip_id) + '.mat'\n",
    "        \n",
    "        presentation_id.append(str(user_id).zfill(2) + str(clip_id).zfill(2))\n",
    "        \n",
    "        signal = scipy.io.loadmat(data_path)"
   ]
  },
  {
   "cell_type": "code",
   "execution_count": 7,
   "metadata": {},
   "outputs": [
    {
     "data": {
      "text/plain": [
       "{'__header__': b'MATLAB 5.0 MAT-file, Platform: PCWIN, Created on: Thu Nov 14 18:38:59 2013',\n",
       " '__version__': '1.0',\n",
       " '__globals__': [],\n",
       " 'timeECG': array([[2013.   ,   11.   ,   14.   ,   18.   ,   38.   ,   59.056]]),\n",
       " 'Data_ECG': array([[2.11907242e+06, 2.16900000e+03, 2.03500000e+03],\n",
       "        [2.11907632e+06, 2.15500000e+03, 2.03600000e+03],\n",
       "        [2.11908023e+06, 2.15600000e+03, 2.03500000e+03],\n",
       "        ...,\n",
       "        [2.19341617e+06, 2.04500000e+03, 2.04600000e+03],\n",
       "        [2.19342007e+06, 2.03900000e+03, 2.03800000e+03],\n",
       "        [2.19342398e+06, 2.04700000e+03, 2.04600000e+03]]),\n",
       " 'A_ECG': array([[array(['Time Stamp'], dtype='<U10'),\n",
       "         array(['ECG RA-LL'], dtype='<U9'),\n",
       "         array(['ECG LA-LL'], dtype='<U9')]], dtype=object),\n",
       " 'G_ECG': array([[array(['CAL'], dtype='<U3'), array(['RAW'], dtype='<U3'),\n",
       "         array(['RAW'], dtype='<U3')]], dtype=object),\n",
       " 'V_ECG': array([[array(['mSecs'], dtype='<U5'), array(['no units'], dtype='<U8'),\n",
       "         array(['no units'], dtype='<U8')]], dtype=object)}"
      ]
     },
     "execution_count": 7,
     "metadata": {},
     "output_type": "execute_result"
    }
   ],
   "source": [
    "signal"
   ]
  },
  {
   "cell_type": "code",
   "execution_count": null,
   "metadata": {},
   "outputs": [],
   "source": []
  }
 ],
 "metadata": {
  "kernelspec": {
   "display_name": "Python 3",
   "language": "python",
   "name": "python3"
  },
  "language_info": {
   "codemirror_mode": {
    "name": "ipython",
    "version": 3
   },
   "file_extension": ".py",
   "mimetype": "text/x-python",
   "name": "python",
   "nbconvert_exporter": "python",
   "pygments_lexer": "ipython3",
   "version": "3.6.5"
  }
 },
 "nbformat": 4,
 "nbformat_minor": 2
}
