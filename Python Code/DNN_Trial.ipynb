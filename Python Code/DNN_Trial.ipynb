{
 "cells": [
  {
   "cell_type": "code",
   "execution_count": 1,
   "metadata": {},
   "outputs": [],
   "source": [
    "import numpy as np\n",
    "import numpy.linalg as la\n",
    "import scipy.io\n",
    "from scipy.stats import kurtosis\n",
    "from scipy.stats import skew\n",
    "from scipy.signal import savgol_filter\n",
    "from scipy.signal import find_peaks\n",
    "from scipy import signal\n",
    "import os\n",
    "import pandas as pd"
   ]
  },
  {
   "cell_type": "code",
   "execution_count": 2,
   "metadata": {},
   "outputs": [],
   "source": [
    "save_path = 'D:\\EECE499\\Features\\EEGFeatures.xlsx'\n",
    "#save_path = '..\\..\\EEGFeatures.xlsx'"
   ]
  },
  {
   "cell_type": "code",
   "execution_count": 3,
   "metadata": {},
   "outputs": [],
   "source": [
    "load_path = 'D:\\EECE499\\Features\\\\'\n",
    "#load_path = '..\\..\\\\'"
   ]
  },
  {
   "cell_type": "code",
   "execution_count": 4,
   "metadata": {},
   "outputs": [],
   "source": [
    "Features = pd.read_excel(load_path + 'Features.xlsx')"
   ]
  },
  {
   "cell_type": "code",
   "execution_count": 5,
   "metadata": {},
   "outputs": [],
   "source": [
    "presentation_ids = Features['presentation_id'].values"
   ]
  },
  {
   "cell_type": "code",
   "execution_count": 6,
   "metadata": {},
   "outputs": [
    {
     "data": {
      "text/plain": [
       "(851,)"
      ]
     },
     "execution_count": 6,
     "metadata": {},
     "output_type": "execute_result"
    }
   ],
   "source": [
    "presentation_ids.shape"
   ]
  },
  {
   "cell_type": "code",
   "execution_count": 14,
   "metadata": {},
   "outputs": [
    {
     "name": "stdout",
     "output_type": "stream",
     "text": [
      "851\n",
      "14108\n",
      "3268\n"
     ]
    }
   ],
   "source": [
    "total = 0\n",
    "min_length = 100000000000000\n",
    "max_length = 0\n",
    "\n",
    "for user_id in range(1, 59):\n",
    "    #print('User ID: ' + str(user_id))\n",
    "    \n",
    "    for clip_id in range(1, 37):\n",
    "        #print('Clip ID: ' + str(clip_id))\n",
    "        \n",
    "        total_length = 0\n",
    "        \n",
    "        data_path_eeg = 'D:/EECE499/Raw/MyECGFunc/ASCERTAIN_Raw/EEGData/Movie_P' + str(user_id).zfill(2) + '/EEG_Clip' + str(clip_id) + '.mat'\n",
    "        data_path_gsr = 'D:/EECE499/Raw/MyECGFunc/ASCERTAIN_Raw/GSRData/Movie_P' + str(user_id).zfill(2) + '/GSR_Clip' + str(clip_id) + '.mat'\n",
    "        \n",
    "        presentation_id = user_id * 100 + clip_id\n",
    "\n",
    "        if presentation_id in presentation_ids: \n",
    "            \n",
    "            # load EEG raw data\n",
    "            signal = scipy.io.loadmat(data_path_eeg)\n",
    "            neuro_sky_EEG_raw = np.array(signal['ThisEEG'][0])\n",
    "            attention_raw = np.array(signal['ThisEEG'][0])\n",
    "            meditation_raw = np.array(signal['ThisEEG'][0])\n",
    "            alpha_raw = np.array(signal['ThisEEG'][0])\n",
    "            beta_raw = np.array(signal['ThisEEG'][0])\n",
    "            delta_raw = np.array(signal['ThisEEG'][0])\n",
    "            gamma_raw = np.array(signal['ThisEEG'][0])\n",
    "            theta_raw = np.array(signal['ThisEEG'][0])\n",
    "            \n",
    "            window = 51 #101\n",
    "            order = 4 #3\n",
    "            neuro_sky_EEG_raw = savgol_filter(neuro_sky_EEG_raw, window, order)\n",
    "            attention_raw = savgol_filter(attention_raw, window, order)\n",
    "            meditation_raw = savgol_filter(meditation_raw, window, order)\n",
    "            alpha_raw = savgol_filter(alpha_raw, window, order)\n",
    "            beta_raw = savgol_filter(beta_raw, window, order)\n",
    "            delta_raw = savgol_filter(delta_raw, window, order)\n",
    "            gamma_raw = savgol_filter(gamma_raw, window, order)\n",
    "            theta_raw = savgol_filter(theta_raw, window, order)\n",
    "            \n",
    "            # load GSR raw data\n",
    "            signal = scipy.io.loadmat(data_path_gsr)\n",
    "            resistance = signal['Data_GSR'][:,4]\n",
    "            resistance = savgol_filter(resistance, 501, 3)\n",
    "            \n",
    "            total_length += beta_raw.shape[0] #+ delta_raw.shape[0] + gamma_raw.shape[0] + theta_raw.shape[0]\n",
    "            total_length += neuro_sky_EEG_raw.shape[0] #+ attention_raw.shape[0] + meditation_raw.shape[0] + alpha_raw.shape[0]\n",
    "            #total_length += resistance.shape[0]\n",
    "            \n",
    "            \n",
    "            if total_length > max_length:\n",
    "                max_length = total_length\n",
    "                \n",
    "            if total_length < min_length:\n",
    "                min_length = total_length\n",
    "            \n",
    "            total += 1\n",
    "            \n",
    "print(total)\n",
    "print(max_length)\n",
    "print(min_length)"
   ]
  },
  {
   "cell_type": "code",
   "execution_count": null,
   "metadata": {},
   "outputs": [],
   "source": []
  }
 ],
 "metadata": {
  "kernelspec": {
   "display_name": "Python 3",
   "language": "python",
   "name": "python3"
  },
  "language_info": {
   "codemirror_mode": {
    "name": "ipython",
    "version": 3
   },
   "file_extension": ".py",
   "mimetype": "text/x-python",
   "name": "python",
   "nbconvert_exporter": "python",
   "pygments_lexer": "ipython3",
   "version": "3.6.5"
  }
 },
 "nbformat": 4,
 "nbformat_minor": 2
}
